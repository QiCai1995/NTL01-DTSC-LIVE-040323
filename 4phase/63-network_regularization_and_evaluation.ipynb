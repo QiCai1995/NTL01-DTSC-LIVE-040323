{
 "cells": [
  {
   "cell_type": "markdown",
   "metadata": {
    "slideshow": {
     "slide_type": "slide"
    }
   },
   "source": [
    "# Regularization and Evaluation of Neural Networks"
   ]
  },
  {
   "cell_type": "markdown",
   "metadata": {},
   "source": [
    "<a href=\"https://colab.research.google.com/github/flatiron-school/NTL01-DTSC-LIVE-040323/blob/main/4phase/63-network_regularization_and_evaluation.ipynb\" \n",
    "target=\"_parent\"><img src=\"https://colab.research.google.com/assets/colab-badge.svg\" alt=\"Open In Colab\"/></a>"
   ]
  },
  {
   "cell_type": "code",
   "execution_count": 1,
   "metadata": {
    "scrolled": true
   },
   "outputs": [
    {
     "name": "stdout",
     "output_type": "stream",
     "text": [
      "Requirement already satisfied: pip in /Users/echocai/opt/anaconda3/envs/learn-env/lib/python3.8/site-packages (23.1.2)\n",
      "Note: you may need to restart the kernel to use updated packages.\n"
     ]
    }
   ],
   "source": [
    "#pip install --upgrade pip"
   ]
  },
  {
   "cell_type": "code",
   "execution_count": 4,
   "metadata": {},
   "outputs": [
    {
     "name": "stdout",
     "output_type": "stream",
     "text": [
      "Requirement already satisfied: tensorflow in /Users/echocai/opt/anaconda3/envs/learn-env/lib/python3.8/site-packages (2.3.1)\n",
      "Collecting tensorflow\n",
      "  Using cached tensorflow-2.12.0-cp38-cp38-macosx_10_15_x86_64.whl (230.1 MB)\n",
      "Collecting absl-py>=1.0.0 (from tensorflow)\n",
      "  Using cached absl_py-1.4.0-py3-none-any.whl (126 kB)\n",
      "Requirement already satisfied: astunparse>=1.6.0 in /Users/echocai/opt/anaconda3/envs/learn-env/lib/python3.8/site-packages (from tensorflow) (1.6.3)\n",
      "Collecting flatbuffers>=2.0 (from tensorflow)\n",
      "  Using cached flatbuffers-23.5.26-py2.py3-none-any.whl (26 kB)\n",
      "Requirement already satisfied: gast<=0.4.0,>=0.2.1 in /Users/echocai/opt/anaconda3/envs/learn-env/lib/python3.8/site-packages (from tensorflow) (0.3.3)\n",
      "Requirement already satisfied: google-pasta>=0.1.1 in /Users/echocai/opt/anaconda3/envs/learn-env/lib/python3.8/site-packages (from tensorflow) (0.2.0)\n",
      "Requirement already satisfied: h5py>=2.9.0 in /Users/echocai/opt/anaconda3/envs/learn-env/lib/python3.8/site-packages (from tensorflow) (2.10.0)\n",
      "Collecting jax>=0.3.15 (from tensorflow)\n",
      "  Using cached jax-0.4.12-py3-none-any.whl\n",
      "Collecting libclang>=13.0.0 (from tensorflow)\n",
      "  Using cached libclang-16.0.0-py2.py3-none-macosx_10_9_x86_64.whl (26.7 MB)\n",
      "Collecting numpy<1.24,>=1.22 (from tensorflow)\n",
      "  Using cached numpy-1.23.5-cp38-cp38-macosx_10_9_x86_64.whl (18.1 MB)\n",
      "Requirement already satisfied: opt-einsum>=2.3.2 in /Users/echocai/opt/anaconda3/envs/learn-env/lib/python3.8/site-packages (from tensorflow) (3.3.0)\n",
      "Requirement already satisfied: packaging in /Users/echocai/opt/anaconda3/envs/learn-env/lib/python3.8/site-packages (from tensorflow) (20.4)\n",
      "Collecting protobuf!=4.21.0,!=4.21.1,!=4.21.2,!=4.21.3,!=4.21.4,!=4.21.5,<5.0.0dev,>=3.20.3 (from tensorflow)\n",
      "  Downloading protobuf-4.23.2-cp37-abi3-macosx_10_9_universal2.whl (400 kB)\n",
      "\u001b[2K     \u001b[90m━━━━━━━━━━━━━━━━━━━━━━━━━━━━━━━━━━━━━\u001b[0m \u001b[32m400.3/400.3 kB\u001b[0m \u001b[31m665.9 kB/s\u001b[0m eta \u001b[36m0:00:00\u001b[0ma \u001b[36m0:00:01\u001b[0m\n",
      "\u001b[?25hRequirement already satisfied: setuptools in /Users/echocai/opt/anaconda3/envs/learn-env/lib/python3.8/site-packages (from tensorflow) (50.3.0.post20201103)\n",
      "Requirement already satisfied: six>=1.12.0 in /Users/echocai/opt/anaconda3/envs/learn-env/lib/python3.8/site-packages (from tensorflow) (1.15.0)\n",
      "Requirement already satisfied: termcolor>=1.1.0 in /Users/echocai/opt/anaconda3/envs/learn-env/lib/python3.8/site-packages (from tensorflow) (1.1.0)\n",
      "Collecting typing-extensions>=3.6.6 (from tensorflow)\n",
      "  Using cached typing_extensions-4.6.3-py3-none-any.whl (31 kB)\n",
      "Requirement already satisfied: wrapt<1.15,>=1.11.0 in /Users/echocai/opt/anaconda3/envs/learn-env/lib/python3.8/site-packages (from tensorflow) (1.12.1)\n",
      "Requirement already satisfied: grpcio<2.0,>=1.24.3 in /Users/echocai/opt/anaconda3/envs/learn-env/lib/python3.8/site-packages (from tensorflow) (1.31.0)\n",
      "Collecting tensorboard<2.13,>=2.12 (from tensorflow)\n",
      "  Using cached tensorboard-2.12.3-py3-none-any.whl (5.6 MB)\n",
      "Collecting tensorflow-estimator<2.13,>=2.12.0 (from tensorflow)\n",
      "  Using cached tensorflow_estimator-2.12.0-py2.py3-none-any.whl (440 kB)\n",
      "Collecting keras<2.13,>=2.12.0 (from tensorflow)\n",
      "  Using cached keras-2.12.0-py2.py3-none-any.whl (1.7 MB)\n",
      "Collecting tensorflow-io-gcs-filesystem>=0.23.1 (from tensorflow)\n",
      "  Using cached tensorflow_io_gcs_filesystem-0.32.0-cp38-cp38-macosx_10_14_x86_64.whl (1.7 MB)\n",
      "Requirement already satisfied: wheel<1.0,>=0.23.0 in /Users/echocai/opt/anaconda3/envs/learn-env/lib/python3.8/site-packages (from astunparse>=1.6.0->tensorflow) (0.35.1)\n",
      "Collecting ml-dtypes>=0.1.0 (from jax>=0.3.15->tensorflow)\n",
      "  Downloading ml_dtypes-0.2.0-cp38-cp38-macosx_10_9_universal2.whl (1.2 MB)\n",
      "\u001b[2K     \u001b[90m━━━━━━━━━━━━━━━━━━━━━━━━━━━━━━━━━━━━━━━━\u001b[0m \u001b[32m1.2/1.2 MB\u001b[0m \u001b[31m900.6 kB/s\u001b[0m eta \u001b[36m0:00:00\u001b[0m00:01\u001b[0m00:01\u001b[0m\n",
      "\u001b[?25hCollecting scipy>=1.7 (from jax>=0.3.15->tensorflow)\n",
      "  Using cached scipy-1.10.1-cp38-cp38-macosx_10_9_x86_64.whl (35.0 MB)\n",
      "Collecting importlib-metadata>=4.6 (from jax>=0.3.15->tensorflow)\n",
      "  Using cached importlib_metadata-6.6.0-py3-none-any.whl (22 kB)\n",
      "Collecting grpcio<2.0,>=1.24.3 (from tensorflow)\n",
      "  Downloading grpcio-1.54.2-cp38-cp38-macosx_10_10_universal2.whl (8.7 MB)\n",
      "\u001b[2K     \u001b[90m━━━━━━━━━━━━━━━━━━━━━━━━━━━━━━━━━━━━━━━━\u001b[0m \u001b[32m8.7/8.7 MB\u001b[0m \u001b[31m1.3 MB/s\u001b[0m eta \u001b[36m0:00:00\u001b[0m00:01\u001b[0m00:01\u001b[0m\n",
      "\u001b[?25hRequirement already satisfied: google-auth<3,>=1.6.3 in /Users/echocai/opt/anaconda3/envs/learn-env/lib/python3.8/site-packages (from tensorboard<2.13,>=2.12->tensorflow) (1.22.0)\n",
      "Collecting google-auth-oauthlib<1.1,>=0.5 (from tensorboard<2.13,>=2.12->tensorflow)\n",
      "  Using cached google_auth_oauthlib-1.0.0-py2.py3-none-any.whl (18 kB)\n",
      "Requirement already satisfied: markdown>=2.6.8 in /Users/echocai/opt/anaconda3/envs/learn-env/lib/python3.8/site-packages (from tensorboard<2.13,>=2.12->tensorflow) (3.3.1)\n",
      "Requirement already satisfied: requests<3,>=2.21.0 in /Users/echocai/opt/anaconda3/envs/learn-env/lib/python3.8/site-packages (from tensorboard<2.13,>=2.12->tensorflow) (2.24.0)\n",
      "Collecting tensorboard-data-server<0.8.0,>=0.7.0 (from tensorboard<2.13,>=2.12->tensorflow)\n",
      "  Using cached tensorboard_data_server-0.7.0-py3-none-macosx_10_9_x86_64.whl (4.8 MB)\n",
      "Requirement already satisfied: werkzeug>=1.0.1 in /Users/echocai/opt/anaconda3/envs/learn-env/lib/python3.8/site-packages (from tensorboard<2.13,>=2.12->tensorflow) (1.0.1)\n",
      "Requirement already satisfied: pyparsing>=2.0.2 in /Users/echocai/opt/anaconda3/envs/learn-env/lib/python3.8/site-packages (from packaging->tensorflow) (2.4.7)\n",
      "Requirement already satisfied: cachetools<5.0,>=2.0.0 in /Users/echocai/opt/anaconda3/envs/learn-env/lib/python3.8/site-packages (from google-auth<3,>=1.6.3->tensorboard<2.13,>=2.12->tensorflow) (4.1.1)\n",
      "Requirement already satisfied: pyasn1-modules>=0.2.1 in /Users/echocai/opt/anaconda3/envs/learn-env/lib/python3.8/site-packages (from google-auth<3,>=1.6.3->tensorboard<2.13,>=2.12->tensorflow) (0.2.7)\n",
      "Requirement already satisfied: rsa<5,>=3.1.4 in /Users/echocai/opt/anaconda3/envs/learn-env/lib/python3.8/site-packages (from google-auth<3,>=1.6.3->tensorboard<2.13,>=2.12->tensorflow) (4.6)\n",
      "Requirement already satisfied: aiohttp<4.0.0dev,>=3.6.2 in /Users/echocai/opt/anaconda3/envs/learn-env/lib/python3.8/site-packages (from google-auth<3,>=1.6.3->tensorboard<2.13,>=2.12->tensorflow) (3.6.2)\n",
      "Collecting google-auth<3,>=1.6.3 (from tensorboard<2.13,>=2.12->tensorflow)\n",
      "  Downloading google_auth-2.19.1-py2.py3-none-any.whl (181 kB)\n",
      "\u001b[2K     \u001b[90m━━━━━━━━━━━━━━━━━━━━━━━━━━━━━━━━━━━━━━━\u001b[0m \u001b[32m181.3/181.3 kB\u001b[0m \u001b[31m1.5 MB/s\u001b[0m eta \u001b[36m0:00:00\u001b[0ma \u001b[36m0:00:01\u001b[0m\n",
      "\u001b[?25hRequirement already satisfied: requests-oauthlib>=0.7.0 in /Users/echocai/opt/anaconda3/envs/learn-env/lib/python3.8/site-packages (from google-auth-oauthlib<1.1,>=0.5->tensorboard<2.13,>=2.12->tensorflow) (1.3.0)\n",
      "Requirement already satisfied: urllib3<2.0 in /Users/echocai/opt/anaconda3/envs/learn-env/lib/python3.8/site-packages (from google-auth<3,>=1.6.3->tensorboard<2.13,>=2.12->tensorflow) (1.25.10)\n",
      "Requirement already satisfied: zipp>=0.5 in /Users/echocai/opt/anaconda3/envs/learn-env/lib/python3.8/site-packages (from importlib-metadata>=4.6->jax>=0.3.15->tensorflow) (3.3.0)\n",
      "Requirement already satisfied: chardet<4,>=3.0.2 in /Users/echocai/opt/anaconda3/envs/learn-env/lib/python3.8/site-packages (from requests<3,>=2.21.0->tensorboard<2.13,>=2.12->tensorflow) (3.0.4)\n",
      "Requirement already satisfied: idna<3,>=2.5 in /Users/echocai/opt/anaconda3/envs/learn-env/lib/python3.8/site-packages (from requests<3,>=2.21.0->tensorboard<2.13,>=2.12->tensorflow) (2.10)\n",
      "Requirement already satisfied: certifi>=2017.4.17 in /Users/echocai/opt/anaconda3/envs/learn-env/lib/python3.8/site-packages (from requests<3,>=2.21.0->tensorboard<2.13,>=2.12->tensorflow) (2020.6.20)\n",
      "Requirement already satisfied: pyasn1<0.5.0,>=0.4.6 in /Users/echocai/opt/anaconda3/envs/learn-env/lib/python3.8/site-packages (from pyasn1-modules>=0.2.1->google-auth<3,>=1.6.3->tensorboard<2.13,>=2.12->tensorflow) (0.4.8)\n",
      "Requirement already satisfied: oauthlib>=3.0.0 in /Users/echocai/opt/anaconda3/envs/learn-env/lib/python3.8/site-packages (from requests-oauthlib>=0.7.0->google-auth-oauthlib<1.1,>=0.5->tensorboard<2.13,>=2.12->tensorflow) (3.1.0)\n"
     ]
    },
    {
     "name": "stdout",
     "output_type": "stream",
     "text": [
      "Requirement already satisfied: attrs>=17.3.0 in /Users/echocai/opt/anaconda3/envs/learn-env/lib/python3.8/site-packages (from aiohttp<4.0.0dev,>=3.6.2->google-auth<3,>=1.6.3->tensorboard<2.13,>=2.12->tensorflow) (20.2.0)\n",
      "Requirement already satisfied: multidict<5.0,>=4.5 in /Users/echocai/opt/anaconda3/envs/learn-env/lib/python3.8/site-packages (from aiohttp<4.0.0dev,>=3.6.2->google-auth<3,>=1.6.3->tensorboard<2.13,>=2.12->tensorflow) (4.7.5)\n",
      "Requirement already satisfied: async-timeout<4.0,>=3.0 in /Users/echocai/opt/anaconda3/envs/learn-env/lib/python3.8/site-packages (from aiohttp<4.0.0dev,>=3.6.2->google-auth<3,>=1.6.3->tensorboard<2.13,>=2.12->tensorflow) (3.0.1)\n",
      "Requirement already satisfied: yarl<2.0,>=1.0 in /Users/echocai/opt/anaconda3/envs/learn-env/lib/python3.8/site-packages (from aiohttp<4.0.0dev,>=3.6.2->google-auth<3,>=1.6.3->tensorboard<2.13,>=2.12->tensorflow) (1.6.2)\n",
      "Installing collected packages: libclang, flatbuffers, typing-extensions, tensorflow-io-gcs-filesystem, tensorflow-estimator, tensorboard-data-server, protobuf, numpy, keras, importlib-metadata, grpcio, absl-py, scipy, ml-dtypes, google-auth, jax, google-auth-oauthlib, tensorboard, tensorflow\n",
      "  Attempting uninstall: tensorflow-estimator\n",
      "    Found existing installation: tensorflow-estimator 2.3.0\n",
      "    Uninstalling tensorflow-estimator-2.3.0:\n",
      "      Successfully uninstalled tensorflow-estimator-2.3.0\n",
      "  Attempting uninstall: protobuf\n",
      "    Found existing installation: protobuf 3.13.0\n",
      "    Uninstalling protobuf-3.13.0:\n",
      "      Successfully uninstalled protobuf-3.13.0\n",
      "  Attempting uninstall: numpy\n",
      "    Found existing installation: numpy 1.18.5\n",
      "    Uninstalling numpy-1.18.5:\n",
      "      Successfully uninstalled numpy-1.18.5\n",
      "  Attempting uninstall: keras\n",
      "    Found existing installation: Keras 2.4.3\n",
      "    Uninstalling Keras-2.4.3:\n",
      "      Successfully uninstalled Keras-2.4.3\n",
      "  Attempting uninstall: importlib-metadata\n",
      "    Found existing installation: importlib-metadata 2.0.0\n",
      "    Uninstalling importlib-metadata-2.0.0:\n",
      "      Successfully uninstalled importlib-metadata-2.0.0\n",
      "  Attempting uninstall: grpcio\n",
      "    Found existing installation: grpcio 1.31.0\n",
      "    Uninstalling grpcio-1.31.0:\n",
      "      Successfully uninstalled grpcio-1.31.0\n",
      "  Attempting uninstall: absl-py\n",
      "    Found existing installation: absl-py 0.10.0\n",
      "    Uninstalling absl-py-0.10.0:\n",
      "      Successfully uninstalled absl-py-0.10.0\n",
      "  Attempting uninstall: scipy\n",
      "    Found existing installation: scipy 1.5.2\n",
      "    Uninstalling scipy-1.5.2:\n",
      "      Successfully uninstalled scipy-1.5.2\n",
      "  Attempting uninstall: google-auth\n",
      "    Found existing installation: google-auth 1.22.0\n",
      "    Uninstalling google-auth-1.22.0:\n",
      "      Successfully uninstalled google-auth-1.22.0\n",
      "  Attempting uninstall: google-auth-oauthlib\n",
      "    Found existing installation: google-auth-oauthlib 0.4.1\n",
      "    Uninstalling google-auth-oauthlib-0.4.1:\n",
      "      Successfully uninstalled google-auth-oauthlib-0.4.1\n",
      "  Attempting uninstall: tensorboard\n",
      "    Found existing installation: tensorboard 2.3.0\n",
      "    Uninstalling tensorboard-2.3.0:\n",
      "      Successfully uninstalled tensorboard-2.3.0\n",
      "  Attempting uninstall: tensorflow\n",
      "    Found existing installation: tensorflow 2.3.1\n",
      "    Uninstalling tensorflow-2.3.1:\n",
      "      Successfully uninstalled tensorflow-2.3.1\n",
      "\u001b[31mERROR: pip's dependency resolver does not currently take into account all the packages that are installed. This behaviour is the source of the following dependency conflicts.\n",
      "google-api-core 1.22.4 requires google-auth<2.0dev,>=1.21.1, but you have google-auth 2.19.1 which is incompatible.\n",
      "google-cloud-storage 1.31.2 requires google-auth<2.0dev,>=1.11.0, but you have google-auth 2.19.1 which is incompatible.\u001b[0m\u001b[31m\n",
      "\u001b[0mSuccessfully installed absl-py-1.4.0 flatbuffers-23.5.26 google-auth-2.19.1 google-auth-oauthlib-1.0.0 grpcio-1.54.2 importlib-metadata-6.6.0 jax-0.4.12 keras-2.12.0 libclang-16.0.0 ml-dtypes-0.2.0 numpy-1.23.5 protobuf-4.23.2 scipy-1.10.1 tensorboard-2.12.3 tensorboard-data-server-0.7.0 tensorflow-2.12.0 tensorflow-estimator-2.12.0 tensorflow-io-gcs-filesystem-0.32.0 typing-extensions-4.6.3\n",
      "Note: you may need to restart the kernel to use updated packages.\n"
     ]
    }
   ],
   "source": [
    "#pip install --upgrade tensorflow"
   ]
  },
  {
   "cell_type": "code",
   "execution_count": 8,
   "metadata": {},
   "outputs": [
    {
     "name": "stdout",
     "output_type": "stream",
     "text": [
      "Requirement already satisfied: tensorflow in /Users/echocai/opt/anaconda3/envs/learn-env/lib/python3.8/site-packages (2.12.0)\n",
      "Note: you may need to restart the kernel to use updated packages.\n"
     ]
    }
   ],
   "source": [
    "#pip install --no-deps tensorflow"
   ]
  },
  {
   "cell_type": "code",
   "execution_count": 1,
   "metadata": {
    "ExecuteTime": {
     "end_time": "2023-06-12T19:31:45.552744Z",
     "start_time": "2023-06-12T19:31:45.416712Z"
    },
    "scrolled": true
   },
   "outputs": [],
   "source": [
    "from sklearn.datasets import load_sample_images\n",
    "from sklearn.datasets import load_digits\n",
    "from sklearn.model_selection import train_test_split, cross_val_score\n",
    "from sklearn.preprocessing import OneHotEncoder\n",
    "from sklearn.metrics import accuracy_score, confusion_matrix\n",
    "import matplotlib.pyplot as plt\n",
    "import matplotlib.image as mpimg\n",
    "import numpy as np\n",
    "import seaborn as sns\n",
    "\n",
    "\n",
    "from tensorflow.keras.models import Sequential\n",
    "from tensorflow.keras.layers import Dense, Dropout\n",
    "from tensorflow.keras.regularizers import l2\n",
    "from tensorflow.keras.optimizers import SGD\n",
    "from tensorflow.keras.wrappers import scikit_learn\n",
    "from tensorflow.keras.callbacks import EarlyStopping\n",
    "\n",
    "from scikeras.wrappers import KerasClassifier\n",
    "\n",
    "import os\n",
    "import sys\n",
    "module_path = os.path.abspath(os.path.join(os.pardir, os.pardir))\n",
    "if module_path not in sys.path:\n",
    "    sys.path.append(module_path)\n",
    "    \n",
    "%load_ext autoreload\n",
    "%autoreload 2"
   ]
  },
  {
   "cell_type": "code",
   "execution_count": 14,
   "metadata": {
    "scrolled": true
   },
   "outputs": [
    {
     "name": "stdout",
     "output_type": "stream",
     "text": [
      "Collecting keras==2.9.0\n",
      "  Downloading keras-2.9.0-py2.py3-none-any.whl (1.6 MB)\n",
      "\u001b[2K     \u001b[90m━━━━━━━━━━━━━━━━━━━━━━━━━━━━━━━━━━━━━━━━\u001b[0m \u001b[32m1.6/1.6 MB\u001b[0m \u001b[31m1.7 MB/s\u001b[0m eta \u001b[36m0:00:00\u001b[0m00:01\u001b[0m00:01\u001b[0m0m\n",
      "\u001b[?25hInstalling collected packages: keras\n",
      "  Attempting uninstall: keras\n",
      "    Found existing installation: Keras 2.3.1\n",
      "    Uninstalling Keras-2.3.1:\n",
      "      Successfully uninstalled Keras-2.3.1\n",
      "\u001b[31mERROR: pip's dependency resolver does not currently take into account all the packages that are installed. This behaviour is the source of the following dependency conflicts.\n",
      "tensorflow 2.12.0 requires keras<2.13,>=2.12.0, but you have keras 2.9.0 which is incompatible.\u001b[0m\u001b[31m\n",
      "\u001b[0mSuccessfully installed keras-2.9.0\n",
      "Collecting tensorflow==2.9.0\n",
      "  Downloading tensorflow-2.9.0-cp38-cp38-macosx_10_14_x86_64.whl (228.5 MB)\n",
      "\u001b[2K     \u001b[90m━━━━━━━━━━━━━━━━━━━━━━━━━━━━━━━━━━━━━━━\u001b[0m \u001b[32m228.5/228.5 MB\u001b[0m \u001b[31m1.1 MB/s\u001b[0m eta \u001b[36m0:00:00\u001b[0m00:01\u001b[0m00:02\u001b[0m\n",
      "\u001b[?25hRequirement already satisfied: absl-py>=1.0.0 in /Users/echocai/opt/anaconda3/envs/learn-env/lib/python3.8/site-packages (from tensorflow==2.9.0) (1.4.0)\n",
      "Requirement already satisfied: astunparse>=1.6.0 in /Users/echocai/opt/anaconda3/envs/learn-env/lib/python3.8/site-packages (from tensorflow==2.9.0) (1.6.3)\n",
      "Collecting flatbuffers<2,>=1.12 (from tensorflow==2.9.0)\n",
      "  Downloading flatbuffers-1.12-py2.py3-none-any.whl (15 kB)\n",
      "Requirement already satisfied: gast<=0.4.0,>=0.2.1 in /Users/echocai/opt/anaconda3/envs/learn-env/lib/python3.8/site-packages (from tensorflow==2.9.0) (0.3.3)\n",
      "Requirement already satisfied: google-pasta>=0.1.1 in /Users/echocai/opt/anaconda3/envs/learn-env/lib/python3.8/site-packages (from tensorflow==2.9.0) (0.2.0)\n",
      "Requirement already satisfied: h5py>=2.9.0 in /Users/echocai/opt/anaconda3/envs/learn-env/lib/python3.8/site-packages (from tensorflow==2.9.0) (2.10.0)\n",
      "Requirement already satisfied: keras-preprocessing>=1.1.1 in /Users/echocai/opt/anaconda3/envs/learn-env/lib/python3.8/site-packages (from tensorflow==2.9.0) (1.1.2)\n",
      "Requirement already satisfied: libclang>=13.0.0 in /Users/echocai/opt/anaconda3/envs/learn-env/lib/python3.8/site-packages (from tensorflow==2.9.0) (16.0.0)\n",
      "Requirement already satisfied: numpy>=1.20 in /Users/echocai/opt/anaconda3/envs/learn-env/lib/python3.8/site-packages (from tensorflow==2.9.0) (1.23.5)\n",
      "Requirement already satisfied: opt-einsum>=2.3.2 in /Users/echocai/opt/anaconda3/envs/learn-env/lib/python3.8/site-packages (from tensorflow==2.9.0) (3.3.0)\n",
      "Requirement already satisfied: packaging in /Users/echocai/opt/anaconda3/envs/learn-env/lib/python3.8/site-packages (from tensorflow==2.9.0) (20.4)\n",
      "Requirement already satisfied: protobuf>=3.9.2 in /Users/echocai/opt/anaconda3/envs/learn-env/lib/python3.8/site-packages (from tensorflow==2.9.0) (4.23.2)\n",
      "Requirement already satisfied: setuptools in /Users/echocai/opt/anaconda3/envs/learn-env/lib/python3.8/site-packages (from tensorflow==2.9.0) (50.3.0.post20201103)\n",
      "Requirement already satisfied: six>=1.12.0 in /Users/echocai/opt/anaconda3/envs/learn-env/lib/python3.8/site-packages (from tensorflow==2.9.0) (1.15.0)\n",
      "Requirement already satisfied: termcolor>=1.1.0 in /Users/echocai/opt/anaconda3/envs/learn-env/lib/python3.8/site-packages (from tensorflow==2.9.0) (1.1.0)\n",
      "Requirement already satisfied: typing-extensions>=3.6.6 in /Users/echocai/opt/anaconda3/envs/learn-env/lib/python3.8/site-packages (from tensorflow==2.9.0) (4.6.3)\n",
      "Requirement already satisfied: wrapt>=1.11.0 in /Users/echocai/opt/anaconda3/envs/learn-env/lib/python3.8/site-packages (from tensorflow==2.9.0) (1.12.1)\n",
      "Requirement already satisfied: tensorflow-io-gcs-filesystem>=0.23.1 in /Users/echocai/opt/anaconda3/envs/learn-env/lib/python3.8/site-packages (from tensorflow==2.9.0) (0.32.0)\n",
      "Requirement already satisfied: grpcio<2.0,>=1.24.3 in /Users/echocai/opt/anaconda3/envs/learn-env/lib/python3.8/site-packages (from tensorflow==2.9.0) (1.54.2)\n",
      "Collecting tensorboard<2.10,>=2.9 (from tensorflow==2.9.0)\n",
      "  Downloading tensorboard-2.9.1-py3-none-any.whl (5.8 MB)\n",
      "\u001b[2K     \u001b[90m━━━━━━━━━━━━━━━━━━━━━━━━━━━━━━━━━━━━━━━━\u001b[0m \u001b[32m5.8/5.8 MB\u001b[0m \u001b[31m1.5 MB/s\u001b[0m eta \u001b[36m0:00:00\u001b[0m00:01\u001b[0m00:01\u001b[0m0m\n",
      "\u001b[?25hCollecting tensorflow-estimator<2.10.0,>=2.9.0rc0 (from tensorflow==2.9.0)\n",
      "  Downloading tensorflow_estimator-2.9.0-py2.py3-none-any.whl (438 kB)\n",
      "\u001b[2K     \u001b[90m━━━━━━━━━━━━━━━━━━━━━━━━━━━━━━━━━━━━━━━\u001b[0m \u001b[32m438.7/438.7 kB\u001b[0m \u001b[31m2.3 MB/s\u001b[0m eta \u001b[36m0:00:00\u001b[0ma \u001b[36m0:00:01\u001b[0m\n",
      "\u001b[?25hRequirement already satisfied: keras<2.10.0,>=2.9.0rc0 in /Users/echocai/opt/anaconda3/envs/learn-env/lib/python3.8/site-packages (from tensorflow==2.9.0) (2.9.0)\n",
      "Requirement already satisfied: wheel<1.0,>=0.23.0 in /Users/echocai/opt/anaconda3/envs/learn-env/lib/python3.8/site-packages (from astunparse>=1.6.0->tensorflow==2.9.0) (0.35.1)\n",
      "Requirement already satisfied: google-auth<3,>=1.6.3 in /Users/echocai/opt/anaconda3/envs/learn-env/lib/python3.8/site-packages (from tensorboard<2.10,>=2.9->tensorflow==2.9.0) (2.19.1)\n",
      "Collecting google-auth-oauthlib<0.5,>=0.4.1 (from tensorboard<2.10,>=2.9->tensorflow==2.9.0)\n",
      "  Downloading google_auth_oauthlib-0.4.6-py2.py3-none-any.whl (18 kB)\n",
      "Requirement already satisfied: markdown>=2.6.8 in /Users/echocai/opt/anaconda3/envs/learn-env/lib/python3.8/site-packages (from tensorboard<2.10,>=2.9->tensorflow==2.9.0) (3.3.1)\n",
      "Collecting protobuf>=3.9.2 (from tensorflow==2.9.0)\n",
      "  Downloading protobuf-3.19.6-cp38-cp38-macosx_10_9_x86_64.whl (980 kB)\n",
      "\u001b[2K     \u001b[90m━━━━━━━━━━━━━━━━━━━━━━━━━━━━━━━━━━━━━━━\u001b[0m \u001b[32m980.4/980.4 kB\u001b[0m \u001b[31m2.6 MB/s\u001b[0m eta \u001b[36m0:00:00\u001b[0m00:01\u001b[0m00:01\u001b[0m\n",
      "\u001b[?25hRequirement already satisfied: requests<3,>=2.21.0 in /Users/echocai/opt/anaconda3/envs/learn-env/lib/python3.8/site-packages (from tensorboard<2.10,>=2.9->tensorflow==2.9.0) (2.24.0)\n",
      "Collecting tensorboard-data-server<0.7.0,>=0.6.0 (from tensorboard<2.10,>=2.9->tensorflow==2.9.0)\n",
      "  Downloading tensorboard_data_server-0.6.1-py3-none-macosx_10_9_x86_64.whl (3.5 MB)\n",
      "\u001b[2K     \u001b[90m━━━━━━━━━━━━━━━━━━━━━━━━━━━━━━━━━━━━━━━━\u001b[0m \u001b[32m3.5/3.5 MB\u001b[0m \u001b[31m2.3 MB/s\u001b[0m eta \u001b[36m0:00:00\u001b[0m00:01\u001b[0m00:01\u001b[0m\n",
      "\u001b[?25hRequirement already satisfied: tensorboard-plugin-wit>=1.6.0 in /Users/echocai/opt/anaconda3/envs/learn-env/lib/python3.8/site-packages (from tensorboard<2.10,>=2.9->tensorflow==2.9.0) (1.7.0)\n",
      "Requirement already satisfied: werkzeug>=1.0.1 in /Users/echocai/opt/anaconda3/envs/learn-env/lib/python3.8/site-packages (from tensorboard<2.10,>=2.9->tensorflow==2.9.0) (1.0.1)\n",
      "Requirement already satisfied: pyparsing>=2.0.2 in /Users/echocai/opt/anaconda3/envs/learn-env/lib/python3.8/site-packages (from packaging->tensorflow==2.9.0) (2.4.7)\n",
      "Requirement already satisfied: cachetools<6.0,>=2.0.0 in /Users/echocai/opt/anaconda3/envs/learn-env/lib/python3.8/site-packages (from google-auth<3,>=1.6.3->tensorboard<2.10,>=2.9->tensorflow==2.9.0) (4.1.1)\n",
      "Requirement already satisfied: pyasn1-modules>=0.2.1 in /Users/echocai/opt/anaconda3/envs/learn-env/lib/python3.8/site-packages (from google-auth<3,>=1.6.3->tensorboard<2.10,>=2.9->tensorflow==2.9.0) (0.2.7)\n",
      "Requirement already satisfied: rsa<5,>=3.1.4 in /Users/echocai/opt/anaconda3/envs/learn-env/lib/python3.8/site-packages (from google-auth<3,>=1.6.3->tensorboard<2.10,>=2.9->tensorflow==2.9.0) (4.6)\n",
      "Requirement already satisfied: urllib3<2.0 in /Users/echocai/opt/anaconda3/envs/learn-env/lib/python3.8/site-packages (from google-auth<3,>=1.6.3->tensorboard<2.10,>=2.9->tensorflow==2.9.0) (1.25.10)\n",
      "Requirement already satisfied: requests-oauthlib>=0.7.0 in /Users/echocai/opt/anaconda3/envs/learn-env/lib/python3.8/site-packages (from google-auth-oauthlib<0.5,>=0.4.1->tensorboard<2.10,>=2.9->tensorflow==2.9.0) (1.3.0)\n",
      "Requirement already satisfied: chardet<4,>=3.0.2 in /Users/echocai/opt/anaconda3/envs/learn-env/lib/python3.8/site-packages (from requests<3,>=2.21.0->tensorboard<2.10,>=2.9->tensorflow==2.9.0) (3.0.4)\n",
      "Requirement already satisfied: idna<3,>=2.5 in /Users/echocai/opt/anaconda3/envs/learn-env/lib/python3.8/site-packages (from requests<3,>=2.21.0->tensorboard<2.10,>=2.9->tensorflow==2.9.0) (2.10)\n",
      "Requirement already satisfied: certifi>=2017.4.17 in /Users/echocai/opt/anaconda3/envs/learn-env/lib/python3.8/site-packages (from requests<3,>=2.21.0->tensorboard<2.10,>=2.9->tensorflow==2.9.0) (2020.6.20)\n"
     ]
    },
    {
     "name": "stdout",
     "output_type": "stream",
     "text": [
      "Requirement already satisfied: pyasn1<0.5.0,>=0.4.6 in /Users/echocai/opt/anaconda3/envs/learn-env/lib/python3.8/site-packages (from pyasn1-modules>=0.2.1->google-auth<3,>=1.6.3->tensorboard<2.10,>=2.9->tensorflow==2.9.0) (0.4.8)\n",
      "Requirement already satisfied: oauthlib>=3.0.0 in /Users/echocai/opt/anaconda3/envs/learn-env/lib/python3.8/site-packages (from requests-oauthlib>=0.7.0->google-auth-oauthlib<0.5,>=0.4.1->tensorboard<2.10,>=2.9->tensorflow==2.9.0) (3.1.0)\n",
      "Installing collected packages: flatbuffers, tensorflow-estimator, tensorboard-data-server, protobuf, google-auth-oauthlib, tensorboard, tensorflow\n",
      "  Attempting uninstall: flatbuffers\n",
      "    Found existing installation: flatbuffers 23.5.26\n",
      "    Uninstalling flatbuffers-23.5.26:\n",
      "      Successfully uninstalled flatbuffers-23.5.26\n",
      "  Attempting uninstall: tensorflow-estimator\n",
      "    Found existing installation: tensorflow-estimator 2.12.0\n",
      "    Uninstalling tensorflow-estimator-2.12.0:\n",
      "      Successfully uninstalled tensorflow-estimator-2.12.0\n",
      "  Attempting uninstall: tensorboard-data-server\n",
      "    Found existing installation: tensorboard-data-server 0.7.0\n",
      "    Uninstalling tensorboard-data-server-0.7.0:\n",
      "      Successfully uninstalled tensorboard-data-server-0.7.0\n",
      "  Attempting uninstall: protobuf\n",
      "    Found existing installation: protobuf 4.23.2\n",
      "    Uninstalling protobuf-4.23.2:\n",
      "      Successfully uninstalled protobuf-4.23.2\n",
      "  Attempting uninstall: google-auth-oauthlib\n",
      "    Found existing installation: google-auth-oauthlib 1.0.0\n",
      "    Uninstalling google-auth-oauthlib-1.0.0:\n",
      "      Successfully uninstalled google-auth-oauthlib-1.0.0\n",
      "  Attempting uninstall: tensorboard\n",
      "    Found existing installation: tensorboard 2.12.3\n",
      "    Uninstalling tensorboard-2.12.3:\n",
      "      Successfully uninstalled tensorboard-2.12.3\n",
      "  Attempting uninstall: tensorflow\n",
      "    Found existing installation: tensorflow 2.12.0\n",
      "    Uninstalling tensorflow-2.12.0:\n",
      "      Successfully uninstalled tensorflow-2.12.0\n",
      "\u001b[31mERROR: pip's dependency resolver does not currently take into account all the packages that are installed. This behaviour is the source of the following dependency conflicts.\n",
      "google-api-core 1.22.4 requires google-auth<2.0dev,>=1.21.1, but you have google-auth 2.19.1 which is incompatible.\n",
      "google-cloud-storage 1.31.2 requires google-auth<2.0dev,>=1.11.0, but you have google-auth 2.19.1 which is incompatible.\u001b[0m\u001b[31m\n",
      "\u001b[0mSuccessfully installed flatbuffers-1.12 google-auth-oauthlib-0.4.6 protobuf-3.19.6 tensorboard-2.9.1 tensorboard-data-server-0.6.1 tensorflow-2.9.0 tensorflow-estimator-2.9.0\n"
     ]
    }
   ],
   "source": [
    "#!pip install keras==2.9.0\n",
    "#!pip install tensorflow==2.9.0"
   ]
  },
  {
   "cell_type": "code",
   "execution_count": 16,
   "metadata": {},
   "outputs": [
    {
     "name": "stdout",
     "output_type": "stream",
     "text": [
      "Requirement already satisfied: scikeras in /Users/echocai/opt/anaconda3/envs/learn-env/lib/python3.8/site-packages (0.10.0)\n",
      "Requirement already satisfied: packaging>=0.21 in /Users/echocai/opt/anaconda3/envs/learn-env/lib/python3.8/site-packages (from scikeras) (20.4)\n",
      "Requirement already satisfied: scikit-learn>=1.0.0 in /Users/echocai/opt/anaconda3/envs/learn-env/lib/python3.8/site-packages (from scikeras) (1.2.2)\n",
      "Requirement already satisfied: pyparsing>=2.0.2 in /Users/echocai/opt/anaconda3/envs/learn-env/lib/python3.8/site-packages (from packaging>=0.21->scikeras) (2.4.7)\n",
      "Requirement already satisfied: six in /Users/echocai/opt/anaconda3/envs/learn-env/lib/python3.8/site-packages (from packaging>=0.21->scikeras) (1.15.0)\n",
      "Requirement already satisfied: numpy>=1.17.3 in /Users/echocai/opt/anaconda3/envs/learn-env/lib/python3.8/site-packages (from scikit-learn>=1.0.0->scikeras) (1.23.5)\n",
      "Requirement already satisfied: scipy>=1.3.2 in /Users/echocai/opt/anaconda3/envs/learn-env/lib/python3.8/site-packages (from scikit-learn>=1.0.0->scikeras) (1.10.1)\n",
      "Requirement already satisfied: joblib>=1.1.1 in /Users/echocai/opt/anaconda3/envs/learn-env/lib/python3.8/site-packages (from scikit-learn>=1.0.0->scikeras) (1.2.0)\n",
      "Requirement already satisfied: threadpoolctl>=2.0.0 in /Users/echocai/opt/anaconda3/envs/learn-env/lib/python3.8/site-packages (from scikit-learn>=1.0.0->scikeras) (2.1.0)\n"
     ]
    }
   ],
   "source": [
    "# !pip install scikeras"
   ]
  },
  {
   "cell_type": "code",
   "execution_count": 12,
   "metadata": {
    "ExecuteTime": {
     "end_time": "2023-06-12T19:31:45.710738Z",
     "start_time": "2023-06-12T19:31:45.553743Z"
    }
   },
   "outputs": [
    {
     "name": "stdout",
     "output_type": "stream",
     "text": [
      "Num GPUs Available:  0\n"
     ]
    }
   ],
   "source": [
    "import tensorflow as tf\n",
    "print(\"Num GPUs Available: \", len(tf.config.list_physical_devices('GPU')))"
   ]
  },
  {
   "cell_type": "markdown",
   "metadata": {},
   "source": [
    "## Learning Objectives\n",
    "\n",
    "- use `keras` to code up a neural network model;\n",
    "- explain dropout and early stopping as distinctive forms of regularization in neural networks;\n",
    "- use wrappers inside `keras` to make models that can jibe with `sklearn`."
   ]
  },
  {
   "cell_type": "markdown",
   "metadata": {},
   "source": [
    "### From last time"
   ]
  },
  {
   "cell_type": "code",
   "execution_count": 3,
   "metadata": {
    "ExecuteTime": {
     "end_time": "2023-06-12T19:31:45.868712Z",
     "start_time": "2023-06-12T19:31:45.711742Z"
    }
   },
   "outputs": [],
   "source": [
    "digits = load_digits()\n",
    "X = digits.data.astype('float32')\n",
    "y = digits.target.astype('float32')\n",
    "\n",
    "y_binary = y % 2"
   ]
  },
  {
   "cell_type": "code",
   "execution_count": 4,
   "metadata": {
    "ExecuteTime": {
     "end_time": "2023-06-12T19:32:16.196771Z",
     "start_time": "2023-06-12T19:31:45.869712Z"
    },
    "scrolled": true
   },
   "outputs": [
    {
     "name": "stdout",
     "output_type": "stream",
     "text": [
      "Epoch 1/50\n",
      "180/180 [==============================] - 2s 6ms/step - loss: 0.5370 - accuracy: 0.7574\n",
      "Epoch 2/50\n",
      "180/180 [==============================] - 1s 7ms/step - loss: 0.2930 - accuracy: 0.8820\n",
      "Epoch 3/50\n",
      "180/180 [==============================] - 1s 8ms/step - loss: 0.2038 - accuracy: 0.9149\n",
      "Epoch 4/50\n",
      "180/180 [==============================] - 1s 5ms/step - loss: 0.1600 - accuracy: 0.9366\n",
      "Epoch 5/50\n",
      "180/180 [==============================] - 1s 7ms/step - loss: 0.1333 - accuracy: 0.9471\n",
      "Epoch 6/50\n",
      "180/180 [==============================] - 1s 7ms/step - loss: 0.1119 - accuracy: 0.9633\n",
      "Epoch 7/50\n",
      "180/180 [==============================] - 1s 6ms/step - loss: 0.1015 - accuracy: 0.9638\n",
      "Epoch 8/50\n",
      "180/180 [==============================] - 1s 6ms/step - loss: 0.0887 - accuracy: 0.9699\n",
      "Epoch 9/50\n",
      "180/180 [==============================] - 1s 6ms/step - loss: 0.0797 - accuracy: 0.9688\n",
      "Epoch 10/50\n",
      "180/180 [==============================] - 1s 7ms/step - loss: 0.0710 - accuracy: 0.9772\n",
      "Epoch 11/50\n",
      "180/180 [==============================] - 1s 4ms/step - loss: 0.0645 - accuracy: 0.9744\n",
      "Epoch 12/50\n",
      "180/180 [==============================] - 1s 4ms/step - loss: 0.0583 - accuracy: 0.9811\n",
      "Epoch 13/50\n",
      "180/180 [==============================] - 1s 5ms/step - loss: 0.0520 - accuracy: 0.9839\n",
      "Epoch 14/50\n",
      "180/180 [==============================] - 1s 5ms/step - loss: 0.0531 - accuracy: 0.9816\n",
      "Epoch 15/50\n",
      "180/180 [==============================] - 1s 5ms/step - loss: 0.0475 - accuracy: 0.9855\n",
      "Epoch 16/50\n",
      "180/180 [==============================] - 1s 5ms/step - loss: 0.0443 - accuracy: 0.9878\n",
      "Epoch 17/50\n",
      "180/180 [==============================] - 1s 4ms/step - loss: 0.0409 - accuracy: 0.9861\n",
      "Epoch 18/50\n",
      "180/180 [==============================] - 1s 3ms/step - loss: 0.0402 - accuracy: 0.9878\n",
      "Epoch 19/50\n",
      "180/180 [==============================] - 1s 3ms/step - loss: 0.0386 - accuracy: 0.9866\n",
      "Epoch 20/50\n",
      "180/180 [==============================] - 1s 3ms/step - loss: 0.0361 - accuracy: 0.9894\n",
      "Epoch 21/50\n",
      "180/180 [==============================] - 1s 3ms/step - loss: 0.0321 - accuracy: 0.9917\n",
      "Epoch 22/50\n",
      "180/180 [==============================] - 1s 4ms/step - loss: 0.0323 - accuracy: 0.9894\n",
      "Epoch 23/50\n",
      "180/180 [==============================] - 1s 4ms/step - loss: 0.0297 - accuracy: 0.9905\n",
      "Epoch 24/50\n",
      "180/180 [==============================] - 1s 3ms/step - loss: 0.0310 - accuracy: 0.9911\n",
      "Epoch 25/50\n",
      "180/180 [==============================] - 1s 3ms/step - loss: 0.0279 - accuracy: 0.9917\n",
      "Epoch 26/50\n",
      "180/180 [==============================] - 1s 3ms/step - loss: 0.0273 - accuracy: 0.9928\n",
      "Epoch 27/50\n",
      "180/180 [==============================] - 1s 3ms/step - loss: 0.0241 - accuracy: 0.9950\n",
      "Epoch 28/50\n",
      "180/180 [==============================] - 1s 3ms/step - loss: 0.0244 - accuracy: 0.9928\n",
      "Epoch 29/50\n",
      "180/180 [==============================] - 1s 3ms/step - loss: 0.0243 - accuracy: 0.9939\n",
      "Epoch 30/50\n",
      "180/180 [==============================] - 1s 3ms/step - loss: 0.0218 - accuracy: 0.9922\n",
      "Epoch 31/50\n",
      "180/180 [==============================] - 1s 3ms/step - loss: 0.0236 - accuracy: 0.9933\n",
      "Epoch 32/50\n",
      "180/180 [==============================] - 1s 3ms/step - loss: 0.0204 - accuracy: 0.9944\n",
      "Epoch 33/50\n",
      "180/180 [==============================] - 1s 3ms/step - loss: 0.0192 - accuracy: 0.9933\n",
      "Epoch 34/50\n",
      "180/180 [==============================] - 1s 4ms/step - loss: 0.0204 - accuracy: 0.9928\n",
      "Epoch 35/50\n",
      "180/180 [==============================] - 1s 3ms/step - loss: 0.0187 - accuracy: 0.9944\n",
      "Epoch 36/50\n",
      "180/180 [==============================] - 1s 3ms/step - loss: 0.0158 - accuracy: 0.9955\n",
      "Epoch 37/50\n",
      "180/180 [==============================] - 1s 3ms/step - loss: 0.0174 - accuracy: 0.9933\n",
      "Epoch 38/50\n",
      "180/180 [==============================] - 1s 3ms/step - loss: 0.0167 - accuracy: 0.9950\n",
      "Epoch 39/50\n",
      "180/180 [==============================] - 1s 4ms/step - loss: 0.0171 - accuracy: 0.9944\n",
      "Epoch 40/50\n",
      "180/180 [==============================] - 1s 4ms/step - loss: 0.0161 - accuracy: 0.9955\n",
      "Epoch 41/50\n",
      "180/180 [==============================] - 1s 4ms/step - loss: 0.0167 - accuracy: 0.9967\n",
      "Epoch 42/50\n",
      "180/180 [==============================] - 1s 6ms/step - loss: 0.0148 - accuracy: 0.9939\n",
      "Epoch 43/50\n",
      "180/180 [==============================] - 1s 5ms/step - loss: 0.0162 - accuracy: 0.9955\n",
      "Epoch 44/50\n",
      "180/180 [==============================] - 1s 3ms/step - loss: 0.0142 - accuracy: 0.9961\n",
      "Epoch 45/50\n",
      "180/180 [==============================] - 1s 3ms/step - loss: 0.0128 - accuracy: 0.9967\n",
      "Epoch 46/50\n",
      "180/180 [==============================] - 1s 3ms/step - loss: 0.0120 - accuracy: 0.9961\n",
      "Epoch 47/50\n",
      "180/180 [==============================] - 1s 3ms/step - loss: 0.0137 - accuracy: 0.9967\n",
      "Epoch 48/50\n",
      "180/180 [==============================] - 1s 3ms/step - loss: 0.0142 - accuracy: 0.9955\n",
      "Epoch 49/50\n",
      "180/180 [==============================] - 1s 4ms/step - loss: 0.0124 - accuracy: 0.9955\n",
      "Epoch 50/50\n",
      "180/180 [==============================] - 1s 3ms/step - loss: 0.0102 - accuracy: 0.9972\n"
     ]
    },
    {
     "data": {
      "text/plain": [
       "<keras.callbacks.History at 0x7ff4d79fb6a0>"
      ]
     },
     "execution_count": 4,
     "metadata": {},
     "output_type": "execute_result"
    }
   ],
   "source": [
    "model = Sequential()\n",
    "model.add(Dense(12, activation='relu', input_dim=64))\n",
    "model.add(Dense(8, activation='relu'))\n",
    "model.add(Dense(1, activation='sigmoid'))\n",
    "\n",
    "model.compile(optimizer='rmsprop',\n",
    "              loss='binary_crossentropy',\n",
    "              metrics=['accuracy'])\n",
    "\n",
    "model.fit(X, y_binary, epochs=50, batch_size=10)"
   ]
  },
  {
   "cell_type": "markdown",
   "metadata": {},
   "source": [
    "### Things to know:\n",
    "\n",
    "- The data and labels in `fit()` need to be numpy arrays, not `pandas` dfs.\n",
    "- Scaling your data will have a large impact on your model.\n",
    "   > For our traditional input features, we would use a scaler object. For images, as long as the minimum value is 0, we can simply divide through by the maximum pixel intensity."
   ]
  },
  {
   "cell_type": "markdown",
   "metadata": {},
   "source": [
    "#### Getting data ready for modeling\n",
    "**Preprocessing**:\n",
    "\n",
    "- use train_test_split to create X_train, y_train, X_test, and y_test\n",
    "- Split training data into pure_train and validation sets.\n",
    "- Scale the pixel intensity to a value between 0 and 1."
   ]
  },
  {
   "cell_type": "markdown",
   "metadata": {},
   "source": [
    "Scaling our input variables will help speed up our neural network.\n",
    "\n",
    "Since our minimum intensity is 0, we can normalize the inputs by dividing each value by the max value (16)."
   ]
  },
  {
   "cell_type": "code",
   "execution_count": 5,
   "metadata": {
    "ExecuteTime": {
     "end_time": "2023-06-12T19:32:16.306834Z",
     "start_time": "2023-06-12T19:32:16.197713Z"
    }
   },
   "outputs": [],
   "source": [
    "X_train, X_test, y_train, y_test =\\\n",
    "    train_test_split(X, y_binary, random_state=42, test_size=0.2)\n",
    "\n",
    "X_pure_train, X_val, y_pure_train, y_val =\\\n",
    "    train_test_split(X_train, y_train, random_state=42, test_size=0.2)\n",
    "\n",
    "X_pure_train, X_val, X_test = X_pure_train/16, X_val/16, X_test/16"
   ]
  },
  {
   "cell_type": "markdown",
   "metadata": {},
   "source": [
    "For activation, let's start with the familiar sigmoid function, and see how it performs."
   ]
  },
  {
   "cell_type": "code",
   "execution_count": 9,
   "metadata": {
    "ExecuteTime": {
     "end_time": "2023-06-12T19:32:16.998889Z",
     "start_time": "2023-06-12T19:32:16.307711Z"
    }
   },
   "outputs": [
    {
     "name": "stdout",
     "output_type": "stream",
     "text": [
      "Epoch 1/10\n",
      "12/12 [==============================] - 2s 6ms/step - loss: 0.6957 - accuracy: 0.4961\n",
      "Epoch 2/10\n",
      "12/12 [==============================] - 0s 15ms/step - loss: 0.6951 - accuracy: 0.4961\n",
      "Epoch 3/10\n",
      "12/12 [==============================] - 0s 14ms/step - loss: 0.6946 - accuracy: 0.4961\n",
      "Epoch 4/10\n",
      "12/12 [==============================] - 0s 5ms/step - loss: 0.6942 - accuracy: 0.4961\n",
      "Epoch 5/10\n",
      "12/12 [==============================] - 0s 4ms/step - loss: 0.6938 - accuracy: 0.4961\n",
      "Epoch 6/10\n",
      "12/12 [==============================] - 0s 5ms/step - loss: 0.6935 - accuracy: 0.4961\n",
      "Epoch 7/10\n",
      "12/12 [==============================] - 0s 5ms/step - loss: 0.6932 - accuracy: 0.4961\n",
      "Epoch 8/10\n",
      "12/12 [==============================] - 0s 11ms/step - loss: 0.6930 - accuracy: 0.4961\n",
      "Epoch 9/10\n",
      "12/12 [==============================] - 0s 6ms/step - loss: 0.6928 - accuracy: 0.4961\n",
      "Epoch 10/10\n",
      "12/12 [==============================] - 0s 4ms/step - loss: 0.6927 - accuracy: 0.4961\n"
     ]
    }
   ],
   "source": [
    "model = Sequential()\n",
    "# We will start with our trusty sigmoid function.\n",
    "# What does input dimension correspond to?\n",
    "model.add(Dense(12, activation='sigmoid', input_dim=64))\n",
    "model.add(Dense(8, activation='sigmoid'))\n",
    "model.add(Dense(1, activation='sigmoid'))\n",
    "\n",
    "model.compile(optimizer='SGD' ,\n",
    "              # We use binary_crossentropy for a binary loss function\n",
    "              loss='binary_crossentropy',\n",
    "              metrics=['accuracy'])\n",
    "\n",
    "# Assign the variable history to store the results,\n",
    "# and set verbose=1 so we can see the output. To see\n",
    "# only the metrics at the end of each epoch, set verbose=2.\n",
    "results = model.fit(X_pure_train, y_pure_train, epochs=10, batch_size=100, verbose=1)"
   ]
  },
  {
   "cell_type": "markdown",
   "metadata": {},
   "source": [
    "We can access the history of our model via `results.history`.\n",
    "Use __dict__ to take a tour."
   ]
  },
  {
   "cell_type": "code",
   "execution_count": 10,
   "metadata": {
    "ExecuteTime": {
     "end_time": "2023-06-12T19:32:17.106887Z",
     "start_time": "2023-06-12T19:32:16.999887Z"
    }
   },
   "outputs": [
    {
     "data": {
      "text/plain": [
       "{'validation_data': None,\n",
       " 'model': <keras.engine.sequential.Sequential at 0x7ff4d7b08d60>,\n",
       " '_chief_worker_only': None,\n",
       " '_supports_tf_logs': False,\n",
       " 'history': {'loss': [0.6956609487533569,\n",
       "   0.6950861811637878,\n",
       "   0.6946139335632324,\n",
       "   0.6941857933998108,\n",
       "   0.6938314437866211,\n",
       "   0.6935337781906128,\n",
       "   0.6931995153427124,\n",
       "   0.6930018663406372,\n",
       "   0.6928133964538574,\n",
       "   0.6926528215408325],\n",
       "  'accuracy': [0.4960835576057434,\n",
       "   0.4960835576057434,\n",
       "   0.4960835576057434,\n",
       "   0.4960835576057434,\n",
       "   0.4960835576057434,\n",
       "   0.4960835576057434,\n",
       "   0.4960835576057434,\n",
       "   0.4960835576057434,\n",
       "   0.4960835576057434,\n",
       "   0.4960835576057434]},\n",
       " 'params': {'verbose': 1, 'epochs': 10, 'steps': 12},\n",
       " 'epoch': [0, 1, 2, 3, 4, 5, 6, 7, 8, 9]}"
      ]
     },
     "execution_count": 10,
     "metadata": {},
     "output_type": "execute_result"
    }
   ],
   "source": [
    "results.__dict__"
   ]
  },
  {
   "cell_type": "code",
   "execution_count": 11,
   "metadata": {
    "ExecuteTime": {
     "end_time": "2023-06-12T19:32:17.404340Z",
     "start_time": "2023-06-12T19:32:17.107887Z"
    }
   },
   "outputs": [
    {
     "data": {
      "image/png": "[encoded data removed]",
      "text/plain": [
       "<Figure size 720x360 with 2 Axes>"
      ]
     },
     "metadata": {
      "needs_background": "light"
     },
     "output_type": "display_data"
    }
   ],
   "source": [
    "sigmoid_loss = results.history['loss']\n",
    "sigmoid_accuracy = results.history['accuracy']\n",
    "\n",
    "fig, (ax1, ax2) = plt.subplots(1, 2, figsize=(10, 5))\n",
    "sns.lineplot(x=results.epoch, y=sigmoid_loss, ax=ax1, label='loss')\n",
    "sns.lineplot(x=results.epoch, y=sigmoid_accuracy, ax=ax2, label='accuracy');"
   ]
  },
  {
   "cell_type": "markdown",
   "metadata": {},
   "source": [
    "We have two plots above both relating to the quality of our model.  The left-hand plot is our loss. It uses the probabilities associated with our predictions to judge how well our prediction fits reality. We want it to decrease as far as possible.\n",
    "\n",
    "The accuracy judges how well the predictions are after applying the threshold at the output layer.  We want accuracy to increase."
   ]
  },
  {
   "cell_type": "markdown",
   "metadata": {},
   "source": [
    "If we look at our loss, it is still decreasing. That is a signal that our model is **still learning**. If our model is still learning, we can allow it to get better by turning a few dials.\n",
    "\n",
    "Let's:\n",
    "- increase the number of epochs;\n",
    "- change sigmoid activation in the hidden layers to ReLU; and\n",
    "- decrease the batch size."
   ]
  },
  {
   "cell_type": "code",
   "execution_count": 13,
   "metadata": {
    "ExecuteTime": {
     "end_time": "2023-06-12T19:32:17.514247Z",
     "start_time": "2023-06-12T19:32:17.405220Z"
    }
   },
   "outputs": [
    {
     "data": {
      "text/plain": [
       "1149"
      ]
     },
     "execution_count": 13,
     "metadata": {},
     "output_type": "execute_result"
    }
   ],
   "source": [
    "X_pure_train.shape[0]"
   ]
  },
  {
   "cell_type": "code",
   "execution_count": 14,
   "metadata": {
    "ExecuteTime": {
     "end_time": "2023-06-12T19:32:26.686278Z",
     "start_time": "2023-06-12T19:32:17.516219Z"
    }
   },
   "outputs": [
    {
     "name": "stdout",
     "output_type": "stream",
     "text": [
      "Epoch 1/100\n",
      "36/36 [==============================] - 1s 6ms/step - loss: 0.6747 - accuracy: 0.6049\n",
      "Epoch 2/100\n",
      "36/36 [==============================] - 0s 6ms/step - loss: 0.6627 - accuracy: 0.6519\n",
      "Epoch 3/100\n",
      "36/36 [==============================] - 0s 6ms/step - loss: 0.6488 - accuracy: 0.6693\n",
      "Epoch 4/100\n",
      "36/36 [==============================] - 0s 6ms/step - loss: 0.6316 - accuracy: 0.6971\n",
      "Epoch 5/100\n",
      "36/36 [==============================] - 0s 7ms/step - loss: 0.6101 - accuracy: 0.7267\n",
      "Epoch 6/100\n",
      "36/36 [==============================] - 0s 8ms/step - loss: 0.5848 - accuracy: 0.7746\n",
      "Epoch 7/100\n",
      "36/36 [==============================] - 0s 5ms/step - loss: 0.5567 - accuracy: 0.8059\n",
      "Epoch 8/100\n",
      "36/36 [==============================] - 0s 6ms/step - loss: 0.5260 - accuracy: 0.8320\n",
      "Epoch 9/100\n",
      "36/36 [==============================] - 0s 5ms/step - loss: 0.4938 - accuracy: 0.8442\n",
      "Epoch 10/100\n",
      "36/36 [==============================] - 0s 7ms/step - loss: 0.4624 - accuracy: 0.8538\n",
      "Epoch 11/100\n",
      "36/36 [==============================] - 0s 5ms/step - loss: 0.4341 - accuracy: 0.8599\n",
      "Epoch 12/100\n",
      "36/36 [==============================] - 0s 6ms/step - loss: 0.4075 - accuracy: 0.8695\n",
      "Epoch 13/100\n",
      "36/36 [==============================] - 0s 7ms/step - loss: 0.3853 - accuracy: 0.8712\n",
      "Epoch 14/100\n",
      "36/36 [==============================] - 0s 7ms/step - loss: 0.3650 - accuracy: 0.8677\n",
      "Epoch 15/100\n",
      "36/36 [==============================] - 0s 5ms/step - loss: 0.3464 - accuracy: 0.8721\n",
      "Epoch 16/100\n",
      "36/36 [==============================] - 0s 6ms/step - loss: 0.3307 - accuracy: 0.8782\n",
      "Epoch 17/100\n",
      "36/36 [==============================] - 0s 6ms/step - loss: 0.3184 - accuracy: 0.8773\n",
      "Epoch 18/100\n",
      "36/36 [==============================] - 0s 6ms/step - loss: 0.3066 - accuracy: 0.8808\n",
      "Epoch 19/100\n",
      "36/36 [==============================] - 0s 5ms/step - loss: 0.2960 - accuracy: 0.8877\n",
      "Epoch 20/100\n",
      "36/36 [==============================] - 0s 9ms/step - loss: 0.2869 - accuracy: 0.8886\n",
      "Epoch 21/100\n",
      "36/36 [==============================] - 0s 5ms/step - loss: 0.2780 - accuracy: 0.8912\n",
      "Epoch 22/100\n",
      "36/36 [==============================] - 0s 5ms/step - loss: 0.2712 - accuracy: 0.8903\n",
      "Epoch 23/100\n",
      "36/36 [==============================] - 0s 10ms/step - loss: 0.2643 - accuracy: 0.9017\n",
      "Epoch 24/100\n",
      "36/36 [==============================] - 0s 8ms/step - loss: 0.2573 - accuracy: 0.8990\n",
      "Epoch 25/100\n",
      "36/36 [==============================] - 0s 6ms/step - loss: 0.2529 - accuracy: 0.8999\n",
      "Epoch 26/100\n",
      "36/36 [==============================] - 0s 8ms/step - loss: 0.2475 - accuracy: 0.9034\n",
      "Epoch 27/100\n",
      "36/36 [==============================] - 0s 7ms/step - loss: 0.2428 - accuracy: 0.9043\n",
      "Epoch 28/100\n",
      "36/36 [==============================] - 0s 6ms/step - loss: 0.2385 - accuracy: 0.9025\n",
      "Epoch 29/100\n",
      "36/36 [==============================] - 0s 11ms/step - loss: 0.2340 - accuracy: 0.9060\n",
      "Epoch 30/100\n",
      "36/36 [==============================] - 0s 11ms/step - loss: 0.2302 - accuracy: 0.9077\n",
      "Epoch 31/100\n",
      "36/36 [==============================] - 0s 8ms/step - loss: 0.2264 - accuracy: 0.9077\n",
      "Epoch 32/100\n",
      "36/36 [==============================] - 0s 7ms/step - loss: 0.2226 - accuracy: 0.9086\n",
      "Epoch 33/100\n",
      "36/36 [==============================] - 0s 5ms/step - loss: 0.2196 - accuracy: 0.9130\n",
      "Epoch 34/100\n",
      "36/36 [==============================] - 0s 7ms/step - loss: 0.2168 - accuracy: 0.9060\n",
      "Epoch 35/100\n",
      "36/36 [==============================] - 0s 6ms/step - loss: 0.2142 - accuracy: 0.9104\n",
      "Epoch 36/100\n",
      "36/36 [==============================] - 0s 6ms/step - loss: 0.2114 - accuracy: 0.9095\n",
      "Epoch 37/100\n",
      "36/36 [==============================] - 0s 5ms/step - loss: 0.2083 - accuracy: 0.9130\n",
      "Epoch 38/100\n",
      "36/36 [==============================] - 0s 8ms/step - loss: 0.2057 - accuracy: 0.9156\n",
      "Epoch 39/100\n",
      "36/36 [==============================] - 0s 9ms/step - loss: 0.2025 - accuracy: 0.9138\n",
      "Epoch 40/100\n",
      "36/36 [==============================] - 0s 8ms/step - loss: 0.2005 - accuracy: 0.9147\n",
      "Epoch 41/100\n",
      "36/36 [==============================] - 0s 5ms/step - loss: 0.1982 - accuracy: 0.9156\n",
      "Epoch 42/100\n",
      "36/36 [==============================] - 0s 8ms/step - loss: 0.1973 - accuracy: 0.9173\n",
      "Epoch 43/100\n",
      "36/36 [==============================] - 0s 5ms/step - loss: 0.1942 - accuracy: 0.9147\n",
      "Epoch 44/100\n",
      "36/36 [==============================] - 0s 11ms/step - loss: 0.1928 - accuracy: 0.9182\n",
      "Epoch 45/100\n",
      "36/36 [==============================] - 0s 7ms/step - loss: 0.1913 - accuracy: 0.9199\n",
      "Epoch 46/100\n",
      "36/36 [==============================] - 0s 7ms/step - loss: 0.1888 - accuracy: 0.9208\n",
      "Epoch 47/100\n",
      "36/36 [==============================] - 0s 10ms/step - loss: 0.1875 - accuracy: 0.9191\n",
      "Epoch 48/100\n",
      "36/36 [==============================] - 0s 5ms/step - loss: 0.1857 - accuracy: 0.9182\n",
      "Epoch 49/100\n",
      "36/36 [==============================] - 0s 7ms/step - loss: 0.1841 - accuracy: 0.9208\n",
      "Epoch 50/100\n",
      "36/36 [==============================] - 0s 5ms/step - loss: 0.1820 - accuracy: 0.9234\n",
      "Epoch 51/100\n",
      "36/36 [==============================] - 0s 5ms/step - loss: 0.1808 - accuracy: 0.9234\n",
      "Epoch 52/100\n",
      "36/36 [==============================] - 0s 5ms/step - loss: 0.1799 - accuracy: 0.9199\n",
      "Epoch 53/100\n",
      "36/36 [==============================] - 0s 4ms/step - loss: 0.1766 - accuracy: 0.9217\n",
      "Epoch 54/100\n",
      "36/36 [==============================] - 0s 8ms/step - loss: 0.1764 - accuracy: 0.9217\n",
      "Epoch 55/100\n",
      "36/36 [==============================] - 0s 4ms/step - loss: 0.1739 - accuracy: 0.9234\n",
      "Epoch 56/100\n",
      "36/36 [==============================] - 0s 4ms/step - loss: 0.1731 - accuracy: 0.9234\n",
      "Epoch 57/100\n",
      "36/36 [==============================] - 0s 6ms/step - loss: 0.1724 - accuracy: 0.9234\n",
      "Epoch 58/100\n",
      "36/36 [==============================] - 0s 14ms/step - loss: 0.1705 - accuracy: 0.9225\n",
      "Epoch 59/100\n",
      "36/36 [==============================] - 0s 7ms/step - loss: 0.1689 - accuracy: 0.9243\n",
      "Epoch 60/100\n",
      "36/36 [==============================] - 0s 5ms/step - loss: 0.1662 - accuracy: 0.9278\n",
      "Epoch 61/100\n",
      "36/36 [==============================] - 0s 6ms/step - loss: 0.1672 - accuracy: 0.9269\n",
      "Epoch 62/100\n",
      "36/36 [==============================] - 0s 5ms/step - loss: 0.1641 - accuracy: 0.9295\n",
      "Epoch 63/100\n",
      "36/36 [==============================] - 0s 10ms/step - loss: 0.1615 - accuracy: 0.9295\n",
      "Epoch 64/100\n",
      "36/36 [==============================] - 0s 4ms/step - loss: 0.1623 - accuracy: 0.9234\n",
      "Epoch 65/100\n",
      "36/36 [==============================] - 0s 7ms/step - loss: 0.1618 - accuracy: 0.9295\n",
      "Epoch 66/100\n",
      "36/36 [==============================] - 0s 6ms/step - loss: 0.1599 - accuracy: 0.9295\n",
      "Epoch 67/100\n",
      "36/36 [==============================] - 0s 8ms/step - loss: 0.1584 - accuracy: 0.9321\n",
      "Epoch 68/100\n",
      "36/36 [==============================] - 0s 6ms/step - loss: 0.1560 - accuracy: 0.9339\n",
      "Epoch 69/100\n",
      "36/36 [==============================] - 0s 6ms/step - loss: 0.1568 - accuracy: 0.9330\n",
      "Epoch 70/100\n",
      "36/36 [==============================] - 0s 5ms/step - loss: 0.1552 - accuracy: 0.9321\n",
      "Epoch 71/100\n",
      "36/36 [==============================] - 0s 7ms/step - loss: 0.1541 - accuracy: 0.9330\n",
      "Epoch 72/100\n",
      "36/36 [==============================] - 0s 7ms/step - loss: 0.1522 - accuracy: 0.9356\n",
      "Epoch 73/100\n",
      "36/36 [==============================] - 0s 5ms/step - loss: 0.1500 - accuracy: 0.9330\n",
      "Epoch 74/100\n",
      "36/36 [==============================] - 0s 8ms/step - loss: 0.1497 - accuracy: 0.9339\n",
      "Epoch 75/100\n",
      "36/36 [==============================] - 0s 7ms/step - loss: 0.1463 - accuracy: 0.9347\n",
      "Epoch 76/100\n",
      "36/36 [==============================] - 1s 15ms/step - loss: 0.1455 - accuracy: 0.9382\n",
      "Epoch 77/100\n",
      "36/36 [==============================] - 1s 15ms/step - loss: 0.1445 - accuracy: 0.9373\n",
      "Epoch 78/100\n",
      "36/36 [==============================] - 0s 6ms/step - loss: 0.1433 - accuracy: 0.9373\n",
      "Epoch 79/100\n",
      "36/36 [==============================] - 0s 8ms/step - loss: 0.1408 - accuracy: 0.9434\n",
      "Epoch 80/100\n",
      "36/36 [==============================] - 0s 5ms/step - loss: 0.1410 - accuracy: 0.9417\n",
      "Epoch 81/100\n",
      "36/36 [==============================] - 0s 7ms/step - loss: 0.1405 - accuracy: 0.9417\n",
      "Epoch 82/100\n",
      "36/36 [==============================] - 0s 13ms/step - loss: 0.1387 - accuracy: 0.9417\n",
      "Epoch 83/100\n",
      "36/36 [==============================] - 0s 8ms/step - loss: 0.1379 - accuracy: 0.9417\n",
      "Epoch 84/100\n",
      "36/36 [==============================] - 0s 10ms/step - loss: 0.1357 - accuracy: 0.9460\n",
      "Epoch 85/100\n",
      "36/36 [==============================] - 0s 9ms/step - loss: 0.1338 - accuracy: 0.9408\n",
      "Epoch 86/100\n",
      "36/36 [==============================] - 0s 4ms/step - loss: 0.1344 - accuracy: 0.9452\n",
      "Epoch 87/100\n",
      "36/36 [==============================] - 0s 6ms/step - loss: 0.1328 - accuracy: 0.9452\n",
      "Epoch 88/100\n",
      "36/36 [==============================] - 0s 6ms/step - loss: 0.1316 - accuracy: 0.9443\n",
      "Epoch 89/100\n",
      "36/36 [==============================] - 0s 7ms/step - loss: 0.1295 - accuracy: 0.9443\n",
      "Epoch 90/100\n",
      "36/36 [==============================] - 0s 7ms/step - loss: 0.1292 - accuracy: 0.9460\n",
      "Epoch 91/100\n",
      "36/36 [==============================] - 0s 6ms/step - loss: 0.1279 - accuracy: 0.9469\n",
      "Epoch 92/100\n",
      "36/36 [==============================] - 0s 8ms/step - loss: 0.1273 - accuracy: 0.9478\n",
      "Epoch 93/100\n",
      "36/36 [==============================] - 0s 12ms/step - loss: 0.1258 - accuracy: 0.9530\n",
      "Epoch 94/100\n",
      "36/36 [==============================] - 0s 8ms/step - loss: 0.1248 - accuracy: 0.9460\n",
      "Epoch 95/100\n",
      "36/36 [==============================] - 1s 29ms/step - loss: 0.1234 - accuracy: 0.9469\n",
      "Epoch 96/100\n",
      "36/36 [==============================] - 0s 10ms/step - loss: 0.1221 - accuracy: 0.9478\n",
      "Epoch 97/100\n",
      "36/36 [==============================] - 0s 12ms/step - loss: 0.1204 - accuracy: 0.9521\n",
      "Epoch 98/100\n",
      "36/36 [==============================] - 0s 8ms/step - loss: 0.1206 - accuracy: 0.9504\n",
      "Epoch 99/100\n",
      "36/36 [==============================] - 0s 11ms/step - loss: 0.1180 - accuracy: 0.9521\n",
      "Epoch 100/100\n",
      "36/36 [==============================] - 0s 4ms/step - loss: 0.1184 - accuracy: 0.9530\n"
     ]
    }
   ],
   "source": [
    "model = Sequential()\n",
    "model.add(Dense(12, activation='relu', input_dim=64))\n",
    "model.add(Dense(8, activation='relu'))\n",
    "model.add(Dense(1, activation='sigmoid'))\n",
    "\n",
    "model.compile(optimizer='SGD',\n",
    "              loss='binary_crossentropy',\n",
    "              metrics=['accuracy'])\n",
    "\n",
    "# Assign the variable history to store the results,\n",
    "# and set verbose=1 so we can see the output.\n",
    "results = model.fit(X_pure_train, y_pure_train, epochs=100, batch_size=None, verbose=1)"
   ]
  },
  {
   "cell_type": "code",
   "execution_count": 15,
   "metadata": {
    "ExecuteTime": {
     "end_time": "2023-06-12T19:32:26.968219Z",
     "start_time": "2023-06-12T19:32:26.687221Z"
    }
   },
   "outputs": [
    {
     "data": {
      "image/png": "[encoded data removed]",
      "text/plain": [
       "<Figure size 720x360 with 2 Axes>"
      ]
     },
     "metadata": {
      "needs_background": "light"
     },
     "output_type": "display_data"
    }
   ],
   "source": [
    "sigmoid_loss = results.history['loss']\n",
    "sigmoid_accuracy = results.history['accuracy']\n",
    "\n",
    "fig, (ax1, ax2) = plt.subplots(1, 2, figsize=(10, 5))\n",
    "sns.lineplot(x=results.epoch, y=sigmoid_loss, ax=ax1, label='loss')\n",
    "sns.lineplot(x=results.epoch, y=sigmoid_accuracy, ax=ax2, label='accuracy');"
   ]
  },
  {
   "cell_type": "markdown",
   "metadata": {},
   "source": [
    "If we increase the learning rate to a very high number, we see that our model overshoots the minimum, and starts bouncing all around."
   ]
  },
  {
   "cell_type": "code",
   "execution_count": 16,
   "metadata": {
    "ExecuteTime": {
     "end_time": "2023-06-12T19:32:36.163251Z",
     "start_time": "2023-06-12T19:32:26.969220Z"
    }
   },
   "outputs": [
    {
     "name": "stdout",
     "output_type": "stream",
     "text": [
      "Epoch 1/30\n",
      "115/115 [==============================] - 2s 8ms/step - loss: 0.9071 - accuracy: 0.5178\n",
      "Epoch 2/30\n",
      "115/115 [==============================] - 1s 4ms/step - loss: 1.0107 - accuracy: 0.5074\n",
      "Epoch 3/30\n",
      "115/115 [==============================] - 1s 7ms/step - loss: 0.9762 - accuracy: 0.4917\n",
      "Epoch 4/30\n",
      "115/115 [==============================] - 1s 7ms/step - loss: 1.0689 - accuracy: 0.4865\n",
      "Epoch 5/30\n",
      "115/115 [==============================] - 1s 6ms/step - loss: 1.0097 - accuracy: 0.4909\n",
      "Epoch 6/30\n",
      "115/115 [==============================] - 1s 6ms/step - loss: 0.9622 - accuracy: 0.5126\n",
      "Epoch 7/30\n",
      "115/115 [==============================] - 1s 6ms/step - loss: 0.9687 - accuracy: 0.5161\n",
      "Epoch 8/30\n",
      "115/115 [==============================] - 1s 6ms/step - loss: 0.9895 - accuracy: 0.5022\n",
      "Epoch 9/30\n",
      "115/115 [==============================] - 1s 6ms/step - loss: 1.0305 - accuracy: 0.4900\n",
      "Epoch 10/30\n",
      "115/115 [==============================] - 1s 6ms/step - loss: 0.9424 - accuracy: 0.5292\n",
      "Epoch 11/30\n",
      "115/115 [==============================] - 1s 6ms/step - loss: 0.9538 - accuracy: 0.5022\n",
      "Epoch 12/30\n",
      "115/115 [==============================] - 1s 7ms/step - loss: 1.0000 - accuracy: 0.4970\n",
      "Epoch 13/30\n",
      "115/115 [==============================] - 1s 6ms/step - loss: 0.9176 - accuracy: 0.5004\n",
      "Epoch 14/30\n",
      "115/115 [==============================] - 1s 7ms/step - loss: 0.9235 - accuracy: 0.5231\n",
      "Epoch 15/30\n",
      "115/115 [==============================] - 1s 5ms/step - loss: 0.8811 - accuracy: 0.5370\n",
      "Epoch 16/30\n",
      "115/115 [==============================] - 1s 5ms/step - loss: 0.9679 - accuracy: 0.5126\n",
      "Epoch 17/30\n",
      "115/115 [==============================] - 1s 5ms/step - loss: 0.9830 - accuracy: 0.5013\n",
      "Epoch 18/30\n",
      "115/115 [==============================] - 1s 5ms/step - loss: 1.0727 - accuracy: 0.4804\n",
      "Epoch 19/30\n",
      "115/115 [==============================] - 1s 6ms/step - loss: 0.9742 - accuracy: 0.4978\n",
      "Epoch 20/30\n",
      "115/115 [==============================] - 1s 5ms/step - loss: 0.9470 - accuracy: 0.5178\n",
      "Epoch 21/30\n",
      "115/115 [==============================] - 1s 5ms/step - loss: 1.0303 - accuracy: 0.4917\n",
      "Epoch 22/30\n",
      "115/115 [==============================] - 1s 5ms/step - loss: 0.9304 - accuracy: 0.5135\n",
      "Epoch 23/30\n",
      "115/115 [==============================] - 1s 5ms/step - loss: 1.1282 - accuracy: 0.4787\n",
      "Epoch 24/30\n",
      "115/115 [==============================] - 1s 5ms/step - loss: 0.9958 - accuracy: 0.4874\n",
      "Epoch 25/30\n",
      "115/115 [==============================] - 1s 6ms/step - loss: 0.9945 - accuracy: 0.4943\n",
      "Epoch 26/30\n",
      "115/115 [==============================] - 1s 5ms/step - loss: 0.9560 - accuracy: 0.5074\n",
      "Epoch 27/30\n",
      "115/115 [==============================] - 1s 5ms/step - loss: 1.0391 - accuracy: 0.4778\n",
      "Epoch 28/30\n",
      "115/115 [==============================] - 1s 5ms/step - loss: 0.9381 - accuracy: 0.5100\n",
      "Epoch 29/30\n",
      "115/115 [==============================] - 1s 5ms/step - loss: 0.9914 - accuracy: 0.5117\n",
      "Epoch 30/30\n",
      "115/115 [==============================] - 1s 5ms/step - loss: 1.0821 - accuracy: 0.4813\n"
     ]
    },
    {
     "data": {
      "image/png": "[encoded data removed]",
      "text/plain": [
       "<Figure size 720x360 with 2 Axes>"
      ]
     },
     "metadata": {
      "needs_background": "light"
     },
     "output_type": "display_data"
    }
   ],
   "source": [
    "model = Sequential()\n",
    "\n",
    "sgd = SGD(learning_rate=9)\n",
    "model.add(Dense(12, activation='relu', input_dim=64))\n",
    "model.add(Dense(8, activation='relu'))\n",
    "model.add(Dense(1, activation='sigmoid'))\n",
    "\n",
    "model.compile(optimizer=sgd,\n",
    "              loss='binary_crossentropy',\n",
    "              metrics=['accuracy'])\n",
    "\n",
    "results = model.fit(X_pure_train, y_pure_train,\n",
    "                    epochs=30, batch_size=10, verbose=1)\n",
    "\n",
    "relu_loss = results.history['loss']\n",
    "relu_accuracy = results.history['accuracy']\n",
    "\n",
    "fig, (ax1, ax2) = plt.subplots(1, 2, figsize=(10, 5))\n",
    "sns.lineplot(x=results.epoch, y=relu_loss, ax=ax1, label='loss')\n",
    "sns.lineplot(x=results.epoch, y=relu_accuracy, ax=ax2, label='accuracy');"
   ]
  },
  {
   "cell_type": "markdown",
   "metadata": {},
   "source": [
    "### Exercise\n",
    "\n",
    "We have been looking only at our training set. Let's add in our validation set to the picture. Check the docstring for the `.fit()` method and add in our validation data."
   ]
  },
  {
   "cell_type": "code",
   "execution_count": null,
   "metadata": {
    "ExecuteTime": {
     "end_time": "2023-06-12T19:32:36.302218Z",
     "start_time": "2023-06-12T19:32:36.164219Z"
    }
   },
   "outputs": [],
   "source": [
    "model = Sequential()\n",
    "model.add(Dense(12, activation='relu', input_dim=64))\n",
    "model.add(Dense(8, activation='relu'))\n",
    "model.add(Dense(4, activation='relu'))\n",
    "model.add(Dense(1, activation='sigmoid'))\n",
    "\n",
    "model.compile(optimizer='adam',\n",
    "              loss='binary_crossentropy',\n",
    "              metrics=['accuracy'])"
   ]
  },
  {
   "cell_type": "code",
   "execution_count": null,
   "metadata": {
    "ExecuteTime": {
     "end_time": "2023-06-12T19:32:48.526081Z",
     "start_time": "2023-06-12T19:32:36.303219Z"
    },
    "scrolled": false
   },
   "outputs": [],
   "source": [
    "results = model.fit(X_pure_train, y_pure_train,\n",
    "                   validation_data=(X_val, y_val),\n",
    "                   epochs=30, batch_size=10)"
   ]
  },
  {
   "cell_type": "code",
   "execution_count": null,
   "metadata": {
    "ExecuteTime": {
     "end_time": "2023-06-12T19:32:48.854053Z",
     "start_time": "2023-06-12T19:32:48.527052Z"
    }
   },
   "outputs": [],
   "source": [
    "train_loss = results.history['loss']\n",
    "train_acc = results.history['accuracy']\n",
    "val_loss = results.history['val_loss']\n",
    "val_acc = results.history['val_accuracy']\n",
    "\n",
    "fig, (ax1, ax2) = plt.subplots(1, 2, figsize=(10, 5))\n",
    "sns.lineplot(x=results.epoch, y=train_loss, ax=ax1, label='train_loss')\n",
    "sns.lineplot(x=results.epoch, y=train_acc, ax=ax2, label='train_accuracy')\n",
    "\n",
    "sns.lineplot(x=results.epoch, y=val_loss, ax=ax1, label='val_loss')\n",
    "sns.lineplot(x=results.epoch, y=val_acc, ax=ax2, label='val_accuracy');"
   ]
  },
  {
   "cell_type": "markdown",
   "metadata": {},
   "source": [
    "<details>\n",
    "    <summary>One answer here</summary>\n",
    "<code>model = Sequential()\n",
    "model.add(Dense(12, activation='relu', input_dim=64))\n",
    "model.add(Dense(8, activation='relu'))\n",
    "model.add(Dense(4, activation='relu'))\n",
    "model.add(Dense(1, activation='sigmoid'))\n",
    "model.compile(optimizer='adam',\n",
    "              loss='binary_crossentropy',\n",
    "              metrics=['accuracy'])\n",
    "results = model.fit(X_pure_train, y_pure_train,\n",
    "                   validation_data=(X_val, y_val),\n",
    "                   epochs=30, batch_size=10)\n",
    "train_loss = results.history['loss']\n",
    "train_acc = results.history['accuracy']\n",
    "val_loss = results.history['val_loss']\n",
    "val_acc = results.history['val_accuracy']\n",
    "fig, (ax1, ax2) = plt.subplots(1, 2, figsize=(10, 5))\n",
    "sns.lineplot(x=results.epoch, y=train_loss, ax=ax1, label='train_loss')\n",
    "sns.lineplot(x=results.epoch, y=train_acc, ax=ax2, label='train_accuracy')\n",
    "sns.lineplot(x=results.epoch, y=val_loss, ax=ax1, label='val_loss')\n",
    "sns.lineplot(x=results.epoch, y=val_acc, ax=ax2, label='val_accuracy');</code>\n",
    "</details>"
   ]
  },
  {
   "cell_type": "code",
   "execution_count": null,
   "metadata": {
    "ExecuteTime": {
     "end_time": "2023-06-12T19:32:48.964054Z",
     "start_time": "2023-06-12T19:32:48.855086Z"
    }
   },
   "outputs": [],
   "source": [
    "results.history['val_accuracy'][-1]"
   ]
  },
  {
   "cell_type": "markdown",
   "metadata": {},
   "source": [
    "## Connecting with `sklearn`\n",
    "\n",
    "The `keras.wrappers` submodule means that we can turn `keras` models into estimators that `sklearn` tools will recognize."
   ]
  },
  {
   "cell_type": "code",
   "execution_count": 17,
   "metadata": {
    "ExecuteTime": {
     "end_time": "2023-06-12T19:32:49.655082Z",
     "start_time": "2023-06-12T19:32:48.965053Z"
    }
   },
   "outputs": [
    {
     "ename": "TypeError",
     "evalue": "If no scoring is specified, the estimator passed should have a 'score' method. The estimator <keras.engine.sequential.Sequential object at 0x7ff4d82d6460> does not.",
     "output_type": "error",
     "traceback": [
      "\u001b[0;31m---------------------------------------------------------------------------\u001b[0m",
      "\u001b[0;31mTypeError\u001b[0m                                 Traceback (most recent call last)",
      "\u001b[0;32m<ipython-input-17-440685741601>\u001b[0m in \u001b[0;36m<module>\u001b[0;34m\u001b[0m\n\u001b[1;32m      1\u001b[0m \u001b[0;31m# This will throw an error.\u001b[0m\u001b[0;34m\u001b[0m\u001b[0;34m\u001b[0m\u001b[0;34m\u001b[0m\u001b[0m\n\u001b[1;32m      2\u001b[0m \u001b[0;34m\u001b[0m\u001b[0m\n\u001b[0;32m----> 3\u001b[0;31m \u001b[0mcross_val_score\u001b[0m\u001b[0;34m(\u001b[0m\u001b[0mmodel\u001b[0m\u001b[0;34m,\u001b[0m \u001b[0mX_pure_train\u001b[0m\u001b[0;34m,\u001b[0m \u001b[0my_pure_train\u001b[0m\u001b[0;34m)\u001b[0m\u001b[0;34m\u001b[0m\u001b[0;34m\u001b[0m\u001b[0m\n\u001b[0m",
      "\u001b[0;32m~/opt/anaconda3/envs/learn-env/lib/python3.8/site-packages/sklearn/model_selection/_validation.py\u001b[0m in \u001b[0;36mcross_val_score\u001b[0;34m(estimator, X, y, groups, scoring, cv, n_jobs, verbose, fit_params, pre_dispatch, error_score)\u001b[0m\n\u001b[1;32m    511\u001b[0m     \"\"\"\n\u001b[1;32m    512\u001b[0m     \u001b[0;31m# To ensure multimetric format is not supported\u001b[0m\u001b[0;34m\u001b[0m\u001b[0;34m\u001b[0m\u001b[0;34m\u001b[0m\u001b[0m\n\u001b[0;32m--> 513\u001b[0;31m     \u001b[0mscorer\u001b[0m \u001b[0;34m=\u001b[0m \u001b[0mcheck_scoring\u001b[0m\u001b[0;34m(\u001b[0m\u001b[0mestimator\u001b[0m\u001b[0;34m,\u001b[0m \u001b[0mscoring\u001b[0m\u001b[0;34m=\u001b[0m\u001b[0mscoring\u001b[0m\u001b[0;34m)\u001b[0m\u001b[0;34m\u001b[0m\u001b[0;34m\u001b[0m\u001b[0m\n\u001b[0m\u001b[1;32m    514\u001b[0m \u001b[0;34m\u001b[0m\u001b[0m\n\u001b[1;32m    515\u001b[0m     cv_results = cross_validate(\n",
      "\u001b[0;32m~/opt/anaconda3/envs/learn-env/lib/python3.8/site-packages/sklearn/metrics/_scorer.py\u001b[0m in \u001b[0;36mcheck_scoring\u001b[0;34m(estimator, scoring, allow_none)\u001b[0m\n\u001b[1;32m    501\u001b[0m             \u001b[0;32mreturn\u001b[0m \u001b[0;32mNone\u001b[0m\u001b[0;34m\u001b[0m\u001b[0;34m\u001b[0m\u001b[0m\n\u001b[1;32m    502\u001b[0m         \u001b[0;32melse\u001b[0m\u001b[0;34m:\u001b[0m\u001b[0;34m\u001b[0m\u001b[0;34m\u001b[0m\u001b[0m\n\u001b[0;32m--> 503\u001b[0;31m             raise TypeError(\n\u001b[0m\u001b[1;32m    504\u001b[0m                 \u001b[0;34m\"If no scoring is specified, the estimator passed should \"\u001b[0m\u001b[0;34m\u001b[0m\u001b[0;34m\u001b[0m\u001b[0m\n\u001b[1;32m    505\u001b[0m                 \u001b[0;34m\"have a 'score' method. The estimator %r does not.\"\u001b[0m \u001b[0;34m%\u001b[0m \u001b[0mestimator\u001b[0m\u001b[0;34m\u001b[0m\u001b[0;34m\u001b[0m\u001b[0m\n",
      "\u001b[0;31mTypeError\u001b[0m: If no scoring is specified, the estimator passed should have a 'score' method. The estimator <keras.engine.sequential.Sequential object at 0x7ff4d82d6460> does not."
     ]
    }
   ],
   "source": [
    "# This will throw an error.\n",
    "\n",
    "cross_val_score(model, X_pure_train, y_pure_train)"
   ]
  },
  {
   "cell_type": "code",
   "execution_count": 18,
   "metadata": {
    "ExecuteTime": {
     "end_time": "2023-06-12T19:32:58.834328Z",
     "start_time": "2023-06-12T19:32:58.730299Z"
    }
   },
   "outputs": [],
   "source": [
    "def build_model():\n",
    "    model = Sequential()\n",
    "    model.add(Dense(12, activation='relu', input_dim=64))\n",
    "    model.add(Dense(8, activation='relu'))\n",
    "    model.add(Dense(4, activation='relu'))\n",
    "    model.add(Dense(1, activation = 'sigmoid'))\n",
    "\n",
    "    model.compile(optimizer='adam',\n",
    "                  loss='binary_crossentropy',\n",
    "                  metrics=['accuracy'])\n",
    "    return model"
   ]
  },
  {
   "cell_type": "code",
   "execution_count": 19,
   "metadata": {
    "ExecuteTime": {
     "end_time": "2023-06-12T19:32:59.976430Z",
     "start_time": "2023-06-12T19:32:59.865408Z"
    }
   },
   "outputs": [],
   "source": [
    "keras_model = KerasClassifier(build_model,\n",
    "                                          epochs=50,\n",
    "                                          batch_size=32,\n",
    "                                          verbose=2)"
   ]
  },
  {
   "cell_type": "code",
   "execution_count": 20,
   "metadata": {
    "ExecuteTime": {
     "end_time": "2023-06-12T19:33:02.033186Z",
     "start_time": "2023-06-12T19:33:01.922187Z"
    }
   },
   "outputs": [
    {
     "data": {
      "text/plain": [
       "scikeras.wrappers.KerasClassifier"
      ]
     },
     "execution_count": 20,
     "metadata": {},
     "output_type": "execute_result"
    }
   ],
   "source": [
    "type(keras_model)"
   ]
  },
  {
   "cell_type": "code",
   "execution_count": 21,
   "metadata": {
    "ExecuteTime": {
     "end_time": "2023-06-12T19:33:26.192775Z",
     "start_time": "2023-06-12T19:33:03.647753Z"
    }
   },
   "outputs": [
    {
     "name": "stdout",
     "output_type": "stream",
     "text": [
      "Epoch 1/50\n",
      "29/29 - 2s - loss: 0.6941 - accuracy: 0.4995 - 2s/epoch - 66ms/step\n",
      "Epoch 2/50\n",
      "29/29 - 0s - loss: 0.6422 - accuracy: 0.6899 - 122ms/epoch - 4ms/step\n",
      "Epoch 3/50\n",
      "29/29 - 0s - loss: 0.5831 - accuracy: 0.7911 - 103ms/epoch - 4ms/step\n",
      "Epoch 4/50\n",
      "29/29 - 0s - loss: 0.5051 - accuracy: 0.8118 - 98ms/epoch - 3ms/step\n",
      "Epoch 5/50\n",
      "29/29 - 0s - loss: 0.4232 - accuracy: 0.8498 - 118ms/epoch - 4ms/step\n",
      "Epoch 6/50\n",
      "29/29 - 0s - loss: 0.3568 - accuracy: 0.8727 - 118ms/epoch - 4ms/step\n",
      "Epoch 7/50\n",
      "29/29 - 0s - loss: 0.3055 - accuracy: 0.8890 - 99ms/epoch - 3ms/step\n",
      "Epoch 8/50\n",
      "29/29 - 0s - loss: 0.2686 - accuracy: 0.9042 - 97ms/epoch - 3ms/step\n",
      "Epoch 9/50\n",
      "29/29 - 0s - loss: 0.2426 - accuracy: 0.9108 - 97ms/epoch - 3ms/step\n",
      "Epoch 10/50\n",
      "29/29 - 0s - loss: 0.2241 - accuracy: 0.9140 - 119ms/epoch - 4ms/step\n",
      "Epoch 11/50\n",
      "29/29 - 0s - loss: 0.2061 - accuracy: 0.9217 - 120ms/epoch - 4ms/step\n",
      "Epoch 12/50\n",
      "29/29 - 0s - loss: 0.1968 - accuracy: 0.9260 - 90ms/epoch - 3ms/step\n",
      "Epoch 13/50\n",
      "29/29 - 0s - loss: 0.1831 - accuracy: 0.9271 - 86ms/epoch - 3ms/step\n",
      "Epoch 14/50\n",
      "29/29 - 0s - loss: 0.1732 - accuracy: 0.9304 - 95ms/epoch - 3ms/step\n",
      "Epoch 15/50\n",
      "29/29 - 0s - loss: 0.1654 - accuracy: 0.9380 - 87ms/epoch - 3ms/step\n",
      "Epoch 16/50\n",
      "29/29 - 0s - loss: 0.1584 - accuracy: 0.9412 - 109ms/epoch - 4ms/step\n",
      "Epoch 17/50\n",
      "29/29 - 0s - loss: 0.1486 - accuracy: 0.9391 - 85ms/epoch - 3ms/step\n",
      "Epoch 18/50\n",
      "29/29 - 0s - loss: 0.1449 - accuracy: 0.9402 - 115ms/epoch - 4ms/step\n",
      "Epoch 19/50\n",
      "29/29 - 0s - loss: 0.1385 - accuracy: 0.9445 - 92ms/epoch - 3ms/step\n",
      "Epoch 20/50\n",
      "29/29 - 0s - loss: 0.1318 - accuracy: 0.9467 - 97ms/epoch - 3ms/step\n",
      "Epoch 21/50\n",
      "29/29 - 0s - loss: 0.1239 - accuracy: 0.9510 - 97ms/epoch - 3ms/step\n",
      "Epoch 22/50\n",
      "29/29 - 0s - loss: 0.1194 - accuracy: 0.9521 - 106ms/epoch - 4ms/step\n",
      "Epoch 23/50\n",
      "29/29 - 0s - loss: 0.1140 - accuracy: 0.9532 - 101ms/epoch - 3ms/step\n",
      "Epoch 24/50\n",
      "29/29 - 0s - loss: 0.1095 - accuracy: 0.9543 - 108ms/epoch - 4ms/step\n",
      "Epoch 25/50\n",
      "29/29 - 0s - loss: 0.1084 - accuracy: 0.9554 - 146ms/epoch - 5ms/step\n",
      "Epoch 26/50\n",
      "29/29 - 0s - loss: 0.1019 - accuracy: 0.9619 - 132ms/epoch - 5ms/step\n",
      "Epoch 27/50\n",
      "29/29 - 0s - loss: 0.0993 - accuracy: 0.9641 - 118ms/epoch - 4ms/step\n",
      "Epoch 28/50\n",
      "29/29 - 0s - loss: 0.0934 - accuracy: 0.9674 - 88ms/epoch - 3ms/step\n",
      "Epoch 29/50\n",
      "29/29 - 0s - loss: 0.0902 - accuracy: 0.9619 - 101ms/epoch - 3ms/step\n",
      "Epoch 30/50\n",
      "29/29 - 0s - loss: 0.0914 - accuracy: 0.9695 - 195ms/epoch - 7ms/step\n",
      "Epoch 31/50\n",
      "29/29 - 0s - loss: 0.0852 - accuracy: 0.9652 - 152ms/epoch - 5ms/step\n",
      "Epoch 32/50\n",
      "29/29 - 0s - loss: 0.0813 - accuracy: 0.9717 - 96ms/epoch - 3ms/step\n",
      "Epoch 33/50\n",
      "29/29 - 0s - loss: 0.0790 - accuracy: 0.9717 - 116ms/epoch - 4ms/step\n",
      "Epoch 34/50\n",
      "29/29 - 0s - loss: 0.0795 - accuracy: 0.9674 - 81ms/epoch - 3ms/step\n",
      "Epoch 35/50\n",
      "29/29 - 0s - loss: 0.0747 - accuracy: 0.9739 - 104ms/epoch - 4ms/step\n",
      "Epoch 36/50\n",
      "29/29 - 0s - loss: 0.0715 - accuracy: 0.9739 - 102ms/epoch - 4ms/step\n",
      "Epoch 37/50\n",
      "29/29 - 0s - loss: 0.0711 - accuracy: 0.9706 - 84ms/epoch - 3ms/step\n",
      "Epoch 38/50\n",
      "29/29 - 0s - loss: 0.0705 - accuracy: 0.9695 - 99ms/epoch - 3ms/step\n",
      "Epoch 39/50\n",
      "29/29 - 0s - loss: 0.0676 - accuracy: 0.9761 - 96ms/epoch - 3ms/step\n",
      "Epoch 40/50\n",
      "29/29 - 0s - loss: 0.0680 - accuracy: 0.9728 - 100ms/epoch - 3ms/step\n",
      "Epoch 41/50\n",
      "29/29 - 0s - loss: 0.0672 - accuracy: 0.9739 - 102ms/epoch - 4ms/step\n",
      "Epoch 42/50\n",
      "29/29 - 0s - loss: 0.0608 - accuracy: 0.9750 - 79ms/epoch - 3ms/step\n",
      "Epoch 43/50\n",
      "29/29 - 0s - loss: 0.0582 - accuracy: 0.9782 - 106ms/epoch - 4ms/step\n",
      "Epoch 44/50\n",
      "29/29 - 0s - loss: 0.0576 - accuracy: 0.9728 - 104ms/epoch - 4ms/step\n",
      "Epoch 45/50\n",
      "29/29 - 0s - loss: 0.0577 - accuracy: 0.9771 - 119ms/epoch - 4ms/step\n",
      "Epoch 46/50\n",
      "29/29 - 0s - loss: 0.0586 - accuracy: 0.9750 - 128ms/epoch - 4ms/step\n",
      "Epoch 47/50\n",
      "29/29 - 0s - loss: 0.0523 - accuracy: 0.9826 - 118ms/epoch - 4ms/step\n",
      "Epoch 48/50\n",
      "29/29 - 0s - loss: 0.0524 - accuracy: 0.9771 - 319ms/epoch - 11ms/step\n",
      "Epoch 49/50\n",
      "29/29 - 0s - loss: 0.0523 - accuracy: 0.9793 - 121ms/epoch - 4ms/step\n",
      "Epoch 50/50\n",
      "29/29 - 0s - loss: 0.0500 - accuracy: 0.9793 - 91ms/epoch - 3ms/step\n",
      "8/8 - 0s - 229ms/epoch - 29ms/step\n",
      "Epoch 1/50\n",
      "29/29 - 1s - loss: 0.6651 - accuracy: 0.6768 - 1s/epoch - 38ms/step\n",
      "Epoch 2/50\n",
      "29/29 - 0s - loss: 0.5748 - accuracy: 0.7780 - 132ms/epoch - 5ms/step\n",
      "Epoch 3/50\n",
      "29/29 - 0s - loss: 0.4491 - accuracy: 0.8498 - 127ms/epoch - 4ms/step\n",
      "Epoch 4/50\n",
      "29/29 - 0s - loss: 0.3586 - accuracy: 0.8672 - 144ms/epoch - 5ms/step\n",
      "Epoch 5/50\n",
      "29/29 - 0s - loss: 0.3124 - accuracy: 0.8792 - 99ms/epoch - 3ms/step\n",
      "Epoch 6/50\n",
      "29/29 - 0s - loss: 0.2766 - accuracy: 0.8934 - 84ms/epoch - 3ms/step\n",
      "Epoch 7/50\n",
      "29/29 - 0s - loss: 0.2530 - accuracy: 0.8999 - 78ms/epoch - 3ms/step\n",
      "Epoch 8/50\n",
      "29/29 - 0s - loss: 0.2338 - accuracy: 0.9075 - 83ms/epoch - 3ms/step\n",
      "Epoch 9/50\n",
      "29/29 - 0s - loss: 0.2180 - accuracy: 0.9129 - 83ms/epoch - 3ms/step\n",
      "Epoch 10/50\n",
      "29/29 - 0s - loss: 0.2056 - accuracy: 0.9184 - 81ms/epoch - 3ms/step\n",
      "Epoch 11/50\n",
      "29/29 - 0s - loss: 0.1948 - accuracy: 0.9217 - 84ms/epoch - 3ms/step\n",
      "Epoch 12/50\n",
      "29/29 - 0s - loss: 0.1875 - accuracy: 0.9238 - 81ms/epoch - 3ms/step\n",
      "Epoch 13/50\n",
      "29/29 - 0s - loss: 0.1732 - accuracy: 0.9260 - 101ms/epoch - 3ms/step\n",
      "Epoch 14/50\n",
      "29/29 - 0s - loss: 0.1629 - accuracy: 0.9358 - 95ms/epoch - 3ms/step\n",
      "Epoch 15/50\n",
      "29/29 - 0s - loss: 0.1511 - accuracy: 0.9347 - 81ms/epoch - 3ms/step\n",
      "Epoch 16/50\n",
      "29/29 - 0s - loss: 0.1507 - accuracy: 0.9358 - 94ms/epoch - 3ms/step\n",
      "Epoch 17/50\n",
      "29/29 - 0s - loss: 0.1373 - accuracy: 0.9412 - 186ms/epoch - 6ms/step\n",
      "Epoch 18/50\n",
      "29/29 - 0s - loss: 0.1294 - accuracy: 0.9499 - 102ms/epoch - 4ms/step\n",
      "Epoch 19/50\n",
      "29/29 - 0s - loss: 0.1316 - accuracy: 0.9402 - 87ms/epoch - 3ms/step\n",
      "Epoch 20/50\n",
      "29/29 - 0s - loss: 0.1394 - accuracy: 0.9456 - 100ms/epoch - 3ms/step\n",
      "Epoch 21/50\n",
      "29/29 - 0s - loss: 0.1153 - accuracy: 0.9543 - 154ms/epoch - 5ms/step\n",
      "Epoch 22/50\n",
      "29/29 - 0s - loss: 0.1079 - accuracy: 0.9587 - 122ms/epoch - 4ms/step\n",
      "Epoch 23/50\n",
      "29/29 - 0s - loss: 0.1013 - accuracy: 0.9652 - 87ms/epoch - 3ms/step\n",
      "Epoch 24/50\n",
      "29/29 - 0s - loss: 0.0984 - accuracy: 0.9641 - 108ms/epoch - 4ms/step\n",
      "Epoch 25/50\n",
      "29/29 - 0s - loss: 0.0925 - accuracy: 0.9706 - 91ms/epoch - 3ms/step\n",
      "Epoch 26/50\n",
      "29/29 - 0s - loss: 0.0895 - accuracy: 0.9663 - 86ms/epoch - 3ms/step\n",
      "Epoch 27/50\n",
      "29/29 - 0s - loss: 0.0853 - accuracy: 0.9706 - 96ms/epoch - 3ms/step\n",
      "Epoch 28/50\n",
      "29/29 - 0s - loss: 0.0851 - accuracy: 0.9684 - 100ms/epoch - 3ms/step\n",
      "Epoch 29/50\n",
      "29/29 - 0s - loss: 0.0787 - accuracy: 0.9750 - 115ms/epoch - 4ms/step\n",
      "Epoch 30/50\n",
      "29/29 - 0s - loss: 0.0759 - accuracy: 0.9728 - 127ms/epoch - 4ms/step\n",
      "Epoch 31/50\n",
      "29/29 - 0s - loss: 0.0735 - accuracy: 0.9761 - 106ms/epoch - 4ms/step\n",
      "Epoch 32/50\n",
      "29/29 - 0s - loss: 0.0684 - accuracy: 0.9815 - 98ms/epoch - 3ms/step\n",
      "Epoch 33/50\n",
      "29/29 - 0s - loss: 0.0687 - accuracy: 0.9804 - 87ms/epoch - 3ms/step\n",
      "Epoch 34/50\n",
      "29/29 - 0s - loss: 0.0649 - accuracy: 0.9793 - 119ms/epoch - 4ms/step\n",
      "Epoch 35/50\n",
      "29/29 - 0s - loss: 0.0617 - accuracy: 0.9782 - 92ms/epoch - 3ms/step\n",
      "Epoch 36/50\n",
      "29/29 - 0s - loss: 0.0591 - accuracy: 0.9848 - 84ms/epoch - 3ms/step\n",
      "Epoch 37/50\n",
      "29/29 - 0s - loss: 0.0579 - accuracy: 0.9848 - 95ms/epoch - 3ms/step\n",
      "Epoch 38/50\n",
      "29/29 - 0s - loss: 0.0554 - accuracy: 0.9848 - 102ms/epoch - 4ms/step\n",
      "Epoch 39/50\n",
      "29/29 - 0s - loss: 0.0533 - accuracy: 0.9826 - 88ms/epoch - 3ms/step\n",
      "Epoch 40/50\n",
      "29/29 - 0s - loss: 0.0506 - accuracy: 0.9880 - 92ms/epoch - 3ms/step\n",
      "Epoch 41/50\n",
      "29/29 - 0s - loss: 0.0478 - accuracy: 0.9902 - 95ms/epoch - 3ms/step\n",
      "Epoch 42/50\n",
      "29/29 - 0s - loss: 0.0481 - accuracy: 0.9902 - 88ms/epoch - 3ms/step\n",
      "Epoch 43/50\n",
      "29/29 - 0s - loss: 0.0429 - accuracy: 0.9891 - 99ms/epoch - 3ms/step\n",
      "Epoch 44/50\n",
      "29/29 - 0s - loss: 0.0443 - accuracy: 0.9859 - 90ms/epoch - 3ms/step\n",
      "Epoch 45/50\n",
      "29/29 - 0s - loss: 0.0431 - accuracy: 0.9891 - 87ms/epoch - 3ms/step\n",
      "Epoch 46/50\n",
      "29/29 - 0s - loss: 0.0417 - accuracy: 0.9913 - 90ms/epoch - 3ms/step\n",
      "Epoch 47/50\n",
      "29/29 - 0s - loss: 0.0390 - accuracy: 0.9924 - 87ms/epoch - 3ms/step\n",
      "Epoch 48/50\n",
      "29/29 - 0s - loss: 0.0420 - accuracy: 0.9848 - 216ms/epoch - 7ms/step\n",
      "Epoch 49/50\n",
      "29/29 - 0s - loss: 0.0398 - accuracy: 0.9880 - 138ms/epoch - 5ms/step\n",
      "Epoch 50/50\n",
      "29/29 - 0s - loss: 0.0372 - accuracy: 0.9902 - 111ms/epoch - 4ms/step\n",
      "8/8 - 0s - 123ms/epoch - 15ms/step\n"
     ]
    },
    {
     "name": "stdout",
     "output_type": "stream",
     "text": [
      "Epoch 1/50\n",
      "29/29 - 1s - loss: 0.6992 - accuracy: 0.5234 - 904ms/epoch - 31ms/step\n",
      "Epoch 2/50\n",
      "29/29 - 0s - loss: 0.6465 - accuracy: 0.5919 - 90ms/epoch - 3ms/step\n",
      "Epoch 3/50\n",
      "29/29 - 0s - loss: 0.5995 - accuracy: 0.6605 - 84ms/epoch - 3ms/step\n",
      "Epoch 4/50\n",
      "29/29 - 0s - loss: 0.5476 - accuracy: 0.7454 - 110ms/epoch - 4ms/step\n",
      "Epoch 5/50\n",
      "29/29 - 0s - loss: 0.5014 - accuracy: 0.8270 - 83ms/epoch - 3ms/step\n",
      "Epoch 6/50\n",
      "29/29 - 0s - loss: 0.4556 - accuracy: 0.8651 - 105ms/epoch - 4ms/step\n",
      "Epoch 7/50\n",
      "29/29 - 0s - loss: 0.4013 - accuracy: 0.8803 - 82ms/epoch - 3ms/step\n",
      "Epoch 8/50\n",
      "29/29 - 0s - loss: 0.3497 - accuracy: 0.8945 - 120ms/epoch - 4ms/step\n",
      "Epoch 9/50\n",
      "29/29 - 0s - loss: 0.3006 - accuracy: 0.9032 - 128ms/epoch - 4ms/step\n",
      "Epoch 10/50\n",
      "29/29 - 0s - loss: 0.2552 - accuracy: 0.9119 - 119ms/epoch - 4ms/step\n",
      "Epoch 11/50\n",
      "29/29 - 0s - loss: 0.2221 - accuracy: 0.9227 - 97ms/epoch - 3ms/step\n",
      "Epoch 12/50\n",
      "29/29 - 0s - loss: 0.1974 - accuracy: 0.9304 - 97ms/epoch - 3ms/step\n",
      "Epoch 13/50\n",
      "29/29 - 0s - loss: 0.1799 - accuracy: 0.9314 - 104ms/epoch - 4ms/step\n",
      "Epoch 14/50\n",
      "29/29 - 0s - loss: 0.1647 - accuracy: 0.9369 - 96ms/epoch - 3ms/step\n",
      "Epoch 15/50\n",
      "29/29 - 0s - loss: 0.1501 - accuracy: 0.9456 - 102ms/epoch - 4ms/step\n",
      "Epoch 16/50\n",
      "29/29 - 0s - loss: 0.1395 - accuracy: 0.9510 - 105ms/epoch - 4ms/step\n",
      "Epoch 17/50\n",
      "29/29 - 0s - loss: 0.1281 - accuracy: 0.9565 - 116ms/epoch - 4ms/step\n",
      "Epoch 18/50\n",
      "29/29 - 0s - loss: 0.1198 - accuracy: 0.9608 - 97ms/epoch - 3ms/step\n",
      "Epoch 19/50\n",
      "29/29 - 0s - loss: 0.1112 - accuracy: 0.9630 - 108ms/epoch - 4ms/step\n",
      "Epoch 20/50\n",
      "29/29 - 0s - loss: 0.1117 - accuracy: 0.9576 - 114ms/epoch - 4ms/step\n",
      "Epoch 21/50\n",
      "29/29 - 0s - loss: 0.1006 - accuracy: 0.9695 - 107ms/epoch - 4ms/step\n",
      "Epoch 22/50\n",
      "29/29 - 0s - loss: 0.0955 - accuracy: 0.9684 - 94ms/epoch - 3ms/step\n",
      "Epoch 23/50\n",
      "29/29 - 0s - loss: 0.0928 - accuracy: 0.9739 - 87ms/epoch - 3ms/step\n",
      "Epoch 24/50\n",
      "29/29 - 0s - loss: 0.0862 - accuracy: 0.9739 - 109ms/epoch - 4ms/step\n",
      "Epoch 25/50\n",
      "29/29 - 0s - loss: 0.0825 - accuracy: 0.9739 - 132ms/epoch - 5ms/step\n",
      "Epoch 26/50\n",
      "29/29 - 0s - loss: 0.0800 - accuracy: 0.9804 - 142ms/epoch - 5ms/step\n",
      "Epoch 27/50\n",
      "29/29 - 0s - loss: 0.0761 - accuracy: 0.9750 - 103ms/epoch - 4ms/step\n",
      "Epoch 28/50\n",
      "29/29 - 0s - loss: 0.0729 - accuracy: 0.9815 - 104ms/epoch - 4ms/step\n",
      "Epoch 29/50\n",
      "29/29 - 0s - loss: 0.0672 - accuracy: 0.9848 - 127ms/epoch - 4ms/step\n",
      "Epoch 30/50\n",
      "29/29 - 0s - loss: 0.0713 - accuracy: 0.9750 - 168ms/epoch - 6ms/step\n",
      "Epoch 31/50\n",
      "29/29 - 0s - loss: 0.0670 - accuracy: 0.9793 - 143ms/epoch - 5ms/step\n",
      "Epoch 32/50\n",
      "29/29 - 0s - loss: 0.0616 - accuracy: 0.9837 - 104ms/epoch - 4ms/step\n",
      "Epoch 33/50\n",
      "29/29 - 0s - loss: 0.0610 - accuracy: 0.9826 - 150ms/epoch - 5ms/step\n",
      "Epoch 34/50\n",
      "29/29 - 0s - loss: 0.0589 - accuracy: 0.9815 - 294ms/epoch - 10ms/step\n",
      "Epoch 35/50\n",
      "29/29 - 0s - loss: 0.0557 - accuracy: 0.9848 - 111ms/epoch - 4ms/step\n",
      "Epoch 36/50\n",
      "29/29 - 0s - loss: 0.0549 - accuracy: 0.9826 - 112ms/epoch - 4ms/step\n",
      "Epoch 37/50\n",
      "29/29 - 0s - loss: 0.0519 - accuracy: 0.9837 - 101ms/epoch - 3ms/step\n",
      "Epoch 38/50\n",
      "29/29 - 0s - loss: 0.0481 - accuracy: 0.9869 - 110ms/epoch - 4ms/step\n",
      "Epoch 39/50\n",
      "29/29 - 0s - loss: 0.0490 - accuracy: 0.9891 - 130ms/epoch - 4ms/step\n",
      "Epoch 40/50\n",
      "29/29 - 0s - loss: 0.0458 - accuracy: 0.9880 - 141ms/epoch - 5ms/step\n",
      "Epoch 41/50\n",
      "29/29 - 0s - loss: 0.0421 - accuracy: 0.9880 - 120ms/epoch - 4ms/step\n",
      "Epoch 42/50\n",
      "29/29 - 0s - loss: 0.0413 - accuracy: 0.9913 - 79ms/epoch - 3ms/step\n",
      "Epoch 43/50\n",
      "29/29 - 0s - loss: 0.0404 - accuracy: 0.9902 - 100ms/epoch - 3ms/step\n",
      "Epoch 44/50\n",
      "29/29 - 0s - loss: 0.0414 - accuracy: 0.9902 - 394ms/epoch - 14ms/step\n",
      "Epoch 45/50\n",
      "29/29 - 0s - loss: 0.0405 - accuracy: 0.9891 - 110ms/epoch - 4ms/step\n",
      "Epoch 46/50\n",
      "29/29 - 0s - loss: 0.0379 - accuracy: 0.9891 - 105ms/epoch - 4ms/step\n",
      "Epoch 47/50\n",
      "29/29 - 0s - loss: 0.0361 - accuracy: 0.9891 - 121ms/epoch - 4ms/step\n",
      "Epoch 48/50\n",
      "29/29 - 0s - loss: 0.0334 - accuracy: 0.9902 - 169ms/epoch - 6ms/step\n",
      "Epoch 49/50\n",
      "29/29 - 0s - loss: 0.0310 - accuracy: 0.9924 - 112ms/epoch - 4ms/step\n",
      "Epoch 50/50\n",
      "29/29 - 0s - loss: 0.0309 - accuracy: 0.9913 - 92ms/epoch - 3ms/step\n",
      "8/8 - 0s - 170ms/epoch - 21ms/step\n",
      "Epoch 1/50\n",
      "29/29 - 1s - loss: 0.6922 - accuracy: 0.5473 - 943ms/epoch - 33ms/step\n",
      "Epoch 2/50\n",
      "29/29 - 0s - loss: 0.6753 - accuracy: 0.6518 - 80ms/epoch - 3ms/step\n",
      "Epoch 3/50\n",
      "29/29 - 0s - loss: 0.6255 - accuracy: 0.7454 - 83ms/epoch - 3ms/step\n",
      "Epoch 4/50\n",
      "29/29 - 0s - loss: 0.5440 - accuracy: 0.8096 - 79ms/epoch - 3ms/step\n",
      "Epoch 5/50\n",
      "29/29 - 0s - loss: 0.4609 - accuracy: 0.8346 - 87ms/epoch - 3ms/step\n",
      "Epoch 6/50\n",
      "29/29 - 0s - loss: 0.3900 - accuracy: 0.8455 - 77ms/epoch - 3ms/step\n",
      "Epoch 7/50\n",
      "29/29 - 0s - loss: 0.3296 - accuracy: 0.8749 - 76ms/epoch - 3ms/step\n",
      "Epoch 8/50\n",
      "29/29 - 0s - loss: 0.2853 - accuracy: 0.8868 - 82ms/epoch - 3ms/step\n",
      "Epoch 9/50\n",
      "29/29 - 0s - loss: 0.2526 - accuracy: 0.9010 - 99ms/epoch - 3ms/step\n",
      "Epoch 10/50\n",
      "29/29 - 0s - loss: 0.2288 - accuracy: 0.9064 - 102ms/epoch - 4ms/step\n",
      "Epoch 11/50\n",
      "29/29 - 0s - loss: 0.2182 - accuracy: 0.9042 - 109ms/epoch - 4ms/step\n",
      "Epoch 12/50\n",
      "29/29 - 0s - loss: 0.1979 - accuracy: 0.9162 - 85ms/epoch - 3ms/step\n",
      "Epoch 13/50\n",
      "29/29 - 0s - loss: 0.1845 - accuracy: 0.9249 - 200ms/epoch - 7ms/step\n",
      "Epoch 14/50\n",
      "29/29 - 0s - loss: 0.1764 - accuracy: 0.9227 - 100ms/epoch - 3ms/step\n",
      "Epoch 15/50\n",
      "29/29 - 0s - loss: 0.1678 - accuracy: 0.9249 - 88ms/epoch - 3ms/step\n",
      "Epoch 16/50\n",
      "29/29 - 0s - loss: 0.1582 - accuracy: 0.9336 - 88ms/epoch - 3ms/step\n",
      "Epoch 17/50\n",
      "29/29 - 0s - loss: 0.1501 - accuracy: 0.9336 - 91ms/epoch - 3ms/step\n",
      "Epoch 18/50\n",
      "29/29 - 0s - loss: 0.1467 - accuracy: 0.9423 - 82ms/epoch - 3ms/step\n",
      "Epoch 19/50\n",
      "29/29 - 0s - loss: 0.1382 - accuracy: 0.9445 - 85ms/epoch - 3ms/step\n",
      "Epoch 20/50\n",
      "29/29 - 0s - loss: 0.1322 - accuracy: 0.9445 - 83ms/epoch - 3ms/step\n",
      "Epoch 21/50\n",
      "29/29 - 0s - loss: 0.1278 - accuracy: 0.9412 - 85ms/epoch - 3ms/step\n",
      "Epoch 22/50\n",
      "29/29 - 0s - loss: 0.1223 - accuracy: 0.9445 - 88ms/epoch - 3ms/step\n",
      "Epoch 23/50\n",
      "29/29 - 0s - loss: 0.1180 - accuracy: 0.9499 - 78ms/epoch - 3ms/step\n",
      "Epoch 24/50\n",
      "29/29 - 0s - loss: 0.1161 - accuracy: 0.9554 - 84ms/epoch - 3ms/step\n",
      "Epoch 25/50\n",
      "29/29 - 0s - loss: 0.1120 - accuracy: 0.9543 - 82ms/epoch - 3ms/step\n",
      "Epoch 26/50\n",
      "29/29 - 0s - loss: 0.1090 - accuracy: 0.9489 - 80ms/epoch - 3ms/step\n",
      "Epoch 27/50\n",
      "29/29 - 0s - loss: 0.1042 - accuracy: 0.9565 - 125ms/epoch - 4ms/step\n",
      "Epoch 28/50\n",
      "29/29 - 0s - loss: 0.1043 - accuracy: 0.9587 - 130ms/epoch - 4ms/step\n",
      "Epoch 29/50\n",
      "29/29 - 0s - loss: 0.0971 - accuracy: 0.9597 - 109ms/epoch - 4ms/step\n",
      "Epoch 30/50\n",
      "29/29 - 0s - loss: 0.0937 - accuracy: 0.9641 - 119ms/epoch - 4ms/step\n",
      "Epoch 31/50\n",
      "29/29 - 0s - loss: 0.0918 - accuracy: 0.9652 - 132ms/epoch - 5ms/step\n",
      "Epoch 32/50\n",
      "29/29 - 0s - loss: 0.0906 - accuracy: 0.9663 - 105ms/epoch - 4ms/step\n",
      "Epoch 33/50\n",
      "29/29 - 0s - loss: 0.0865 - accuracy: 0.9641 - 110ms/epoch - 4ms/step\n",
      "Epoch 34/50\n",
      "29/29 - 0s - loss: 0.0855 - accuracy: 0.9684 - 116ms/epoch - 4ms/step\n",
      "Epoch 35/50\n",
      "29/29 - 0s - loss: 0.0817 - accuracy: 0.9717 - 127ms/epoch - 4ms/step\n",
      "Epoch 36/50\n",
      "29/29 - 0s - loss: 0.0791 - accuracy: 0.9717 - 115ms/epoch - 4ms/step\n",
      "Epoch 37/50\n",
      "29/29 - 0s - loss: 0.0804 - accuracy: 0.9728 - 104ms/epoch - 4ms/step\n",
      "Epoch 38/50\n",
      "29/29 - 0s - loss: 0.0733 - accuracy: 0.9782 - 134ms/epoch - 5ms/step\n",
      "Epoch 39/50\n",
      "29/29 - 0s - loss: 0.0704 - accuracy: 0.9761 - 262ms/epoch - 9ms/step\n",
      "Epoch 40/50\n",
      "29/29 - 0s - loss: 0.0712 - accuracy: 0.9750 - 128ms/epoch - 4ms/step\n",
      "Epoch 41/50\n",
      "29/29 - 0s - loss: 0.0719 - accuracy: 0.9793 - 118ms/epoch - 4ms/step\n",
      "Epoch 42/50\n",
      "29/29 - 0s - loss: 0.0677 - accuracy: 0.9782 - 93ms/epoch - 3ms/step\n",
      "Epoch 43/50\n",
      "29/29 - 0s - loss: 0.0688 - accuracy: 0.9761 - 96ms/epoch - 3ms/step\n",
      "Epoch 44/50\n",
      "29/29 - 0s - loss: 0.0609 - accuracy: 0.9826 - 108ms/epoch - 4ms/step\n",
      "Epoch 45/50\n",
      "29/29 - 0s - loss: 0.0604 - accuracy: 0.9804 - 98ms/epoch - 3ms/step\n",
      "Epoch 46/50\n",
      "29/29 - 0s - loss: 0.0596 - accuracy: 0.9837 - 109ms/epoch - 4ms/step\n",
      "Epoch 47/50\n",
      "29/29 - 0s - loss: 0.0563 - accuracy: 0.9869 - 106ms/epoch - 4ms/step\n",
      "Epoch 48/50\n",
      "29/29 - 0s - loss: 0.0556 - accuracy: 0.9837 - 109ms/epoch - 4ms/step\n",
      "Epoch 49/50\n",
      "29/29 - 0s - loss: 0.0518 - accuracy: 0.9859 - 96ms/epoch - 3ms/step\n",
      "Epoch 50/50\n",
      "29/29 - 0s - loss: 0.0488 - accuracy: 0.9859 - 103ms/epoch - 4ms/step\n",
      "8/8 - 0s - 118ms/epoch - 15ms/step\n"
     ]
    },
    {
     "name": "stdout",
     "output_type": "stream",
     "text": [
      "Epoch 1/50\n",
      "29/29 - 1s - loss: 0.6183 - accuracy: 0.7152 - 1s/epoch - 35ms/step\n",
      "Epoch 2/50\n",
      "29/29 - 0s - loss: 0.4953 - accuracy: 0.8293 - 69ms/epoch - 2ms/step\n",
      "Epoch 3/50\n",
      "29/29 - 0s - loss: 0.3904 - accuracy: 0.8674 - 79ms/epoch - 3ms/step\n",
      "Epoch 4/50\n",
      "29/29 - 0s - loss: 0.3271 - accuracy: 0.8761 - 88ms/epoch - 3ms/step\n",
      "Epoch 5/50\n",
      "29/29 - 0s - loss: 0.2927 - accuracy: 0.8739 - 78ms/epoch - 3ms/step\n",
      "Epoch 6/50\n",
      "29/29 - 0s - loss: 0.2603 - accuracy: 0.8957 - 83ms/epoch - 3ms/step\n",
      "Epoch 7/50\n",
      "29/29 - 0s - loss: 0.2372 - accuracy: 0.9033 - 76ms/epoch - 3ms/step\n",
      "Epoch 8/50\n",
      "29/29 - 0s - loss: 0.2226 - accuracy: 0.9022 - 89ms/epoch - 3ms/step\n",
      "Epoch 9/50\n",
      "29/29 - 0s - loss: 0.2107 - accuracy: 0.9152 - 75ms/epoch - 3ms/step\n",
      "Epoch 10/50\n",
      "29/29 - 0s - loss: 0.1992 - accuracy: 0.9196 - 74ms/epoch - 3ms/step\n",
      "Epoch 11/50\n",
      "29/29 - 0s - loss: 0.1900 - accuracy: 0.9185 - 76ms/epoch - 3ms/step\n",
      "Epoch 12/50\n",
      "29/29 - 0s - loss: 0.1802 - accuracy: 0.9239 - 80ms/epoch - 3ms/step\n",
      "Epoch 13/50\n",
      "29/29 - 0s - loss: 0.1760 - accuracy: 0.9283 - 107ms/epoch - 4ms/step\n",
      "Epoch 14/50\n",
      "29/29 - 0s - loss: 0.1653 - accuracy: 0.9315 - 178ms/epoch - 6ms/step\n",
      "Epoch 15/50\n",
      "29/29 - 0s - loss: 0.1584 - accuracy: 0.9359 - 95ms/epoch - 3ms/step\n",
      "Epoch 16/50\n",
      "29/29 - 0s - loss: 0.1561 - accuracy: 0.9348 - 97ms/epoch - 3ms/step\n",
      "Epoch 17/50\n",
      "29/29 - 0s - loss: 0.1454 - accuracy: 0.9413 - 85ms/epoch - 3ms/step\n",
      "Epoch 18/50\n",
      "29/29 - 0s - loss: 0.1393 - accuracy: 0.9424 - 80ms/epoch - 3ms/step\n",
      "Epoch 19/50\n",
      "29/29 - 0s - loss: 0.1337 - accuracy: 0.9402 - 73ms/epoch - 3ms/step\n",
      "Epoch 20/50\n",
      "29/29 - 0s - loss: 0.1229 - accuracy: 0.9489 - 80ms/epoch - 3ms/step\n",
      "Epoch 21/50\n",
      "29/29 - 0s - loss: 0.1200 - accuracy: 0.9500 - 83ms/epoch - 3ms/step\n",
      "Epoch 22/50\n",
      "29/29 - 0s - loss: 0.1121 - accuracy: 0.9576 - 79ms/epoch - 3ms/step\n",
      "Epoch 23/50\n",
      "29/29 - 0s - loss: 0.1084 - accuracy: 0.9565 - 96ms/epoch - 3ms/step\n",
      "Epoch 24/50\n",
      "29/29 - 0s - loss: 0.1030 - accuracy: 0.9630 - 88ms/epoch - 3ms/step\n",
      "Epoch 25/50\n",
      "29/29 - 0s - loss: 0.0967 - accuracy: 0.9652 - 80ms/epoch - 3ms/step\n",
      "Epoch 26/50\n",
      "29/29 - 0s - loss: 0.0928 - accuracy: 0.9663 - 85ms/epoch - 3ms/step\n",
      "Epoch 27/50\n",
      "29/29 - 0s - loss: 0.0880 - accuracy: 0.9652 - 83ms/epoch - 3ms/step\n",
      "Epoch 28/50\n",
      "29/29 - 0s - loss: 0.0833 - accuracy: 0.9696 - 86ms/epoch - 3ms/step\n",
      "Epoch 29/50\n",
      "29/29 - 0s - loss: 0.0797 - accuracy: 0.9696 - 84ms/epoch - 3ms/step\n",
      "Epoch 30/50\n",
      "29/29 - 0s - loss: 0.0760 - accuracy: 0.9685 - 84ms/epoch - 3ms/step\n",
      "Epoch 31/50\n",
      "29/29 - 0s - loss: 0.0718 - accuracy: 0.9772 - 85ms/epoch - 3ms/step\n",
      "Epoch 32/50\n",
      "29/29 - 0s - loss: 0.0688 - accuracy: 0.9804 - 95ms/epoch - 3ms/step\n",
      "Epoch 33/50\n",
      "29/29 - 0s - loss: 0.0659 - accuracy: 0.9793 - 82ms/epoch - 3ms/step\n",
      "Epoch 34/50\n",
      "29/29 - 0s - loss: 0.0625 - accuracy: 0.9826 - 83ms/epoch - 3ms/step\n",
      "Epoch 35/50\n",
      "29/29 - 0s - loss: 0.0611 - accuracy: 0.9826 - 106ms/epoch - 4ms/step\n",
      "Epoch 36/50\n",
      "29/29 - 0s - loss: 0.0571 - accuracy: 0.9859 - 80ms/epoch - 3ms/step\n",
      "Epoch 37/50\n",
      "29/29 - 0s - loss: 0.0555 - accuracy: 0.9870 - 86ms/epoch - 3ms/step\n",
      "Epoch 38/50\n",
      "29/29 - 0s - loss: 0.0508 - accuracy: 0.9859 - 83ms/epoch - 3ms/step\n",
      "Epoch 39/50\n",
      "29/29 - 0s - loss: 0.0511 - accuracy: 0.9859 - 96ms/epoch - 3ms/step\n",
      "Epoch 40/50\n",
      "29/29 - 0s - loss: 0.0473 - accuracy: 0.9870 - 96ms/epoch - 3ms/step\n",
      "Epoch 41/50\n",
      "29/29 - 0s - loss: 0.0465 - accuracy: 0.9891 - 95ms/epoch - 3ms/step\n",
      "Epoch 42/50\n",
      "29/29 - 0s - loss: 0.0432 - accuracy: 0.9902 - 93ms/epoch - 3ms/step\n",
      "Epoch 43/50\n",
      "29/29 - 0s - loss: 0.0411 - accuracy: 0.9880 - 87ms/epoch - 3ms/step\n",
      "Epoch 44/50\n",
      "29/29 - 0s - loss: 0.0420 - accuracy: 0.9870 - 83ms/epoch - 3ms/step\n",
      "Epoch 45/50\n",
      "29/29 - 0s - loss: 0.0379 - accuracy: 0.9913 - 81ms/epoch - 3ms/step\n",
      "Epoch 46/50\n",
      "29/29 - 0s - loss: 0.0365 - accuracy: 0.9902 - 83ms/epoch - 3ms/step\n",
      "Epoch 47/50\n",
      "29/29 - 0s - loss: 0.0341 - accuracy: 0.9902 - 81ms/epoch - 3ms/step\n",
      "Epoch 48/50\n",
      "29/29 - 0s - loss: 0.0341 - accuracy: 0.9913 - 93ms/epoch - 3ms/step\n",
      "Epoch 49/50\n",
      "29/29 - 0s - loss: 0.0314 - accuracy: 0.9913 - 89ms/epoch - 3ms/step\n",
      "Epoch 50/50\n",
      "29/29 - 0s - loss: 0.0305 - accuracy: 0.9913 - 86ms/epoch - 3ms/step\n",
      "8/8 - 0s - 92ms/epoch - 12ms/step\n"
     ]
    },
    {
     "data": {
      "text/plain": [
       "array([0.95217391, 0.95217391, 0.96086957, 0.95652174, 0.93449782])"
      ]
     },
     "execution_count": 21,
     "metadata": {},
     "output_type": "execute_result"
    }
   ],
   "source": [
    "cross_val_score(keras_model, X_pure_train, y_pure_train) # default 5 folds of the keras_model which is 50 * 5 = 250 cycles"
   ]
  },
  {
   "cell_type": "markdown",
   "metadata": {},
   "source": [
    "## Regularization"
   ]
  },
  {
   "cell_type": "markdown",
   "metadata": {},
   "source": [
    "Does regularization make sense in the context of neural networks? <br/>\n",
    "\n",
    "Yes! We still have all of the salient ingredients: a loss function, overfitting vs. underfitting, and coefficients (weights) that could get too large.\n",
    "\n",
    "But there are now a few different flavors besides L1 and L2 regularization. (Note that L1 regularization is not common in the context of  neural networks.)\n",
    "\n",
    "We'll add a few more layers to give regularization a better chance of making a difference!"
   ]
  },
  {
   "cell_type": "code",
   "execution_count": 22,
   "metadata": {
    "ExecuteTime": {
     "end_time": "2023-06-12T19:33:33.872825Z",
     "start_time": "2023-06-12T19:33:30.131824Z"
    }
   },
   "outputs": [
    {
     "data": {
      "image/png": "[encoded data removed]",
      "text/plain": [
       "<Figure size 720x360 with 2 Axes>"
      ]
     },
     "metadata": {
      "needs_background": "light"
     },
     "output_type": "display_data"
    }
   ],
   "source": [
    "model = Sequential()\n",
    "model.add(Dense(30, activation='relu', input_dim=64))\n",
    "\n",
    "# We can add L2 (or L1) regularization right into\n",
    "# the layer with the kernel_regularizer parameter.\n",
    "\n",
    "model.add(Dense(20, activation='relu',\n",
    "                kernel_regularizer=l2(l2=0.05)))\n",
    "\n",
    "# Note that there is also a bias_regularizer,\n",
    "# but this tends to have less effect.\n",
    "\n",
    "model.add(Dense(12, activation='relu'))\n",
    "model.add(Dense(12, activation='relu'))\n",
    "model.add(Dense(12, activation='relu'))\n",
    "model.add(Dense(8, activation='relu'))\n",
    "model.add(Dense(4, activation='relu'))\n",
    "model.add(Dense(1, activation ='sigmoid'))\n",
    "\n",
    "model.compile(optimizer='adam',\n",
    "              loss='binary_crossentropy',\n",
    "              metrics=['accuracy'])\n",
    "\n",
    "results = model.fit(X_pure_train, y_pure_train, epochs=20, batch_size=32,\n",
    "                    verbose=0, validation_data=(X_val, y_val))\n",
    "\n",
    "train_loss = results.history['loss']\n",
    "train_acc = results.history['accuracy']\n",
    "val_loss = results.history['val_loss']\n",
    "val_acc = results.history['val_accuracy']\n",
    "\n",
    "\n",
    "fig, (ax1, ax2) = plt.subplots(1, 2, figsize=(10, 5))\n",
    "sns.lineplot(x=results.epoch, y=train_loss, ax=ax1, label='train_loss')\n",
    "sns.lineplot(x=results.epoch, y=train_acc, ax=ax2, label='train_accuracy')\n",
    "\n",
    "sns.lineplot(x=results.epoch, y=val_loss, ax=ax1, label='val_loss')\n",
    "sns.lineplot(x=results.epoch, y=val_acc, ax=ax2, label='val_accuracy');"
   ]
  },
  {
   "cell_type": "markdown",
   "metadata": {},
   "source": [
    "Adding L2 to multiple layers:"
   ]
  },
  {
   "cell_type": "code",
   "execution_count": 23,
   "metadata": {
    "ExecuteTime": {
     "end_time": "2023-06-12T19:33:39.018732Z",
     "start_time": "2023-06-12T19:33:34.868769Z"
    }
   },
   "outputs": [
    {
     "data": {
      "image/png": "[encoded data removed]",
      "text/plain": [
       "<Figure size 720x360 with 2 Axes>"
      ]
     },
     "metadata": {
      "needs_background": "light"
     },
     "output_type": "display_data"
    }
   ],
   "source": [
    "model = Sequential()\n",
    "model.add(Dense(30, activation='relu',\n",
    "                input_dim=64))\n",
    "model.add(Dense(20, activation='relu',\n",
    "                kernel_regularizer=l2(l2=0.01)))\n",
    "\n",
    "model.add(Dense(12, activation='relu',\n",
    "                kernel_regularizer=l2(l2=0.01)))\n",
    "model.add(Dense(12, activation='relu',\n",
    "                kernel_regularizer=l2(l2=0.01)))\n",
    "model.add(Dense(12, activation='relu',\n",
    "                kernel_regularizer=l2(l2=0.01)))\n",
    "model.add(Dense(8, activation='relu',\n",
    "                kernel_regularizer=l2(l2=0.01)))\n",
    "model.add(Dense(4, activation='relu',\n",
    "                kernel_regularizer=l2(l2=0.01)))\n",
    "model.add(Dense(1, activation='sigmoid'))\n",
    "\n",
    "model.compile(optimizer='adam',\n",
    "              loss='binary_crossentropy',\n",
    "              metrics=['accuracy'])\n",
    "\n",
    "results = model.fit(X_pure_train, y_pure_train, epochs=20, batch_size=32,\n",
    "                    verbose=0, validation_data=(X_val, y_val))\n",
    "\n",
    "train_loss = results.history['loss']\n",
    "train_acc = results.history['accuracy']\n",
    "val_loss = results.history['val_loss']\n",
    "val_acc = results.history['val_accuracy']\n",
    "\n",
    "\n",
    "fig, (ax1, ax2) = plt.subplots(1, 2, figsize=(10, 5))\n",
    "sns.lineplot(x=results.epoch, y=train_loss, ax=ax1, label='train_loss')\n",
    "sns.lineplot(x=results.epoch, y=train_acc, ax=ax2, label='train_accuracy')\n",
    "\n",
    "sns.lineplot(x=results.epoch, y=val_loss, ax=ax1, label='val_loss')\n",
    "sns.lineplot(x=results.epoch, y=val_acc, ax=ax2, label='val_accuracy');"
   ]
  },
  {
   "cell_type": "markdown",
   "metadata": {},
   "source": [
    "### Dropout\n",
    "\n",
    "We can also specify a dropout layer in keras, which randomly shuts off different nodes during training. This can help to prevent overfitting.\n",
    "\n",
    "![drop_out](images/drop_out.png)"
   ]
  },
  {
   "cell_type": "markdown",
   "metadata": {},
   "source": [
    "### Exercise\n",
    "\n",
    "To add dropout to a `keras` network, simply add it as though it were a layer. It will apply to the immediately preceding layer.\n",
    "\n",
    "Add Dropout to one or more layers below."
   ]
  },
  {
   "cell_type": "code",
   "execution_count": 24,
   "metadata": {
    "ExecuteTime": {
     "end_time": "2023-06-12T19:33:47.957908Z",
     "start_time": "2023-06-12T19:33:40.019305Z"
    },
    "scrolled": false
   },
   "outputs": [
    {
     "data": {
      "image/png": "[encoded data removed]",
      "text/plain": [
       "<Figure size 720x360 with 2 Axes>"
      ]
     },
     "metadata": {
      "needs_background": "light"
     },
     "output_type": "display_data"
    }
   ],
   "source": [
    "# model.add(Dropout(0.5))\n",
    "\n",
    "model = Sequential()\n",
    "model.add(Dense(30, activation='relu', input_dim=64))\n",
    "model.add(Dense(20, activation='relu'))\n",
    "model.add(Dropout(0.5))\n",
    "model.add(Dense(12, activation='relu'))\n",
    "model.add(Dropout(0.2))\n",
    "model.add(Dense(12, activation='relu'))\n",
    "model.add(Dense(12, activation='relu'))\n",
    "model.add(Dense(8, activation='relu'))\n",
    "model.add(Dense(4, activation='relu'))\n",
    "model.add(Dense(1, activation ='sigmoid'))\n",
    "\n",
    "model.compile(optimizer='adam',\n",
    "              loss='binary_crossentropy',\n",
    "              metrics=['accuracy'])\n",
    "\n",
    "results = model.fit(X_pure_train, y_pure_train, epochs=50,\n",
    "                    batch_size= 32, verbose=0,\n",
    "                    validation_data=(X_val, y_val))\n",
    "\n",
    "\n",
    "\n",
    "\n",
    "\n",
    "train_loss = results.history['loss']\n",
    "train_acc = results.history['accuracy']\n",
    "val_loss = results.history['val_loss']\n",
    "val_acc = results.history['val_accuracy']\n",
    "\n",
    "\n",
    "fig, (ax1, ax2) = plt.subplots(1, 2, figsize=(10, 5))\n",
    "sns.lineplot(x=results.epoch, y=train_loss, ax=ax1, label='train_loss')\n",
    "sns.lineplot(x=results.epoch, y=train_acc, ax=ax2, label='train_accuracy')\n",
    "\n",
    "sns.lineplot(x=results.epoch, y=val_loss, ax=ax1, label='val_loss')\n",
    "sns.lineplot(x=results.epoch, y=val_acc, ax=ax2, label='val_accuracy');"
   ]
  },
  {
   "cell_type": "markdown",
   "metadata": {},
   "source": [
    "<details>\n",
    "    <summary>One answer here</summary>\n",
    "<code>model = Sequential()\n",
    "model.add(Dense(30, activation='relu', input_dim=64))\n",
    "model.add(Dense(20, activation='relu'))\n",
    "model.add(Dropout(0.5))\n",
    "model.add(Dense(12, activation='relu'))\n",
    "model.add(Dropout(0.2))\n",
    "model.add(Dense(12, activation='relu'))\n",
    "model.add(Dense(12, activation='relu'))\n",
    "model.add(Dense(8, activation='relu'))\n",
    "model.add(Dense(4, activation='relu'))\n",
    "model.add(Dense(1, activation ='sigmoid'))\n",
    "\n",
    "model.compile(optimizer='adam',\n",
    "              loss='binary_crossentropy',\n",
    "              metrics=['accuracy'])\n",
    "\n",
    "results = model.fit(X_pure_train, y_pure_train, epochs=50,\n",
    "                    batch_size= 32, verbose=0,\n",
    "                    validation_data=(X_val, y_val))\n",
    "\n",
    "train_loss = results.history['loss']\n",
    "train_acc = results.history['accuracy']\n",
    "val_loss = results.history['val_loss']\n",
    "val_acc = results.history['val_accuracy']\n",
    "\n",
    "\n",
    "fig, (ax1, ax2) = plt.subplots(1, 2, figsize=(10, 5))\n",
    "sns.lineplot(x=results.epoch, y=train_loss, ax=ax1, label='train_loss')\n",
    "sns.lineplot(x=results.epoch, y=train_acc, ax=ax2, label='train_accuracy')\n",
    "\n",
    "sns.lineplot(x=results.epoch, y=val_loss, ax=ax1, label='val_loss')\n",
    "sns.lineplot(x=results.epoch, y=val_acc, ax=ax2, label='val_accuracy');</code>\n",
    "</details>"
   ]
  },
  {
   "cell_type": "code",
   "execution_count": 25,
   "metadata": {
    "ExecuteTime": {
     "end_time": "2023-06-12T19:33:49.228412Z",
     "start_time": "2023-06-12T19:33:49.133435Z"
    }
   },
   "outputs": [
    {
     "data": {
      "text/plain": [
       "0.9861111044883728"
      ]
     },
     "execution_count": 25,
     "metadata": {},
     "output_type": "execute_result"
    }
   ],
   "source": [
    "results.history['val_accuracy'][-1]"
   ]
  },
  {
   "cell_type": "markdown",
   "metadata": {},
   "source": [
    "### Early Stopping"
   ]
  },
  {
   "cell_type": "markdown",
   "metadata": {},
   "source": [
    "We can also tell our neural network to stop once it stops realizing any gain.\n",
    "\n",
    "Here we tell it to stop once the a very small positive change in the validation loss occurs:"
   ]
  },
  {
   "cell_type": "code",
   "execution_count": 26,
   "metadata": {
    "ExecuteTime": {
     "end_time": "2023-06-12T19:33:51.476305Z",
     "start_time": "2023-06-12T19:33:50.273576Z"
    }
   },
   "outputs": [
    {
     "name": "stdout",
     "output_type": "stream",
     "text": [
      "Epoch 2: early stopping\n"
     ]
    },
    {
     "data": {
      "image/png": "[encoded data removed]",
      "text/plain": [
       "<Figure size 720x360 with 2 Axes>"
      ]
     },
     "metadata": {
      "needs_background": "light"
     },
     "output_type": "display_data"
    }
   ],
   "source": [
    "model = Sequential()\n",
    "model.add(Dense(30, activation='relu', input_dim=64))\n",
    "model.add(Dense(20, activation='relu'))\n",
    "model.add(Dropout(0.5))\n",
    "model.add(Dense(12, activation='relu'))\n",
    "model.add(Dense(12, activation='relu'))\n",
    "model.add(Dense(12, activation='relu'))\n",
    "model.add(Dense(8, activation='relu'))\n",
    "model.add(Dense(4, activation='relu'))\n",
    "model.add(Dense(1, activation ='sigmoid'))\n",
    "\n",
    "model.compile(optimizer='adam',\n",
    "              loss='binary_crossentropy',\n",
    "              metrics=['accuracy'])\n",
    "\n",
    "# Define the EarlyStopping object\n",
    "early_stop = EarlyStopping(monitor='val_loss', min_delta=1e-4,\n",
    "                           verbose=1,\n",
    "                           mode='min')\n",
    "\n",
    "# Place this in a list as the value of the `callbacks` parameter\n",
    "# in the `.fit()` method.\n",
    "results = model.fit(X_pure_train, y_pure_train,\n",
    "                    epochs=20, batch_size=32,\n",
    "                    verbose=0, validation_data=(X_val, y_val),\n",
    "                    callbacks=[early_stop])\n",
    "\n",
    "train_loss = results.history['loss']\n",
    "train_acc = results.history['accuracy']\n",
    "val_loss = results.history['val_loss']\n",
    "val_acc = results.history['val_accuracy']\n",
    "\n",
    "\n",
    "fig, (ax1, ax2) = plt.subplots(1, 2, figsize=(10, 5))\n",
    "sns.lineplot(x=results.epoch, y=train_loss, ax=ax1, label='train_loss')\n",
    "sns.lineplot(x=results.epoch, y=train_acc, ax=ax2, label='train_accuracy')\n",
    "\n",
    "sns.lineplot(x=results.epoch, y=val_loss, ax=ax1, label='val_loss')\n",
    "sns.lineplot(x=results.epoch, y=val_acc, ax=ax2, label='val_accuracy');"
   ]
  },
  {
   "cell_type": "markdown",
   "metadata": {},
   "source": [
    "### Exercise\n",
    "\n",
    "That probably stopped too early. We can specify the number of epochs in which it doesn't see decrease in the loss with the `patience` parameter. Modify the code below to include an Early Stop with a patience of 5 epochs."
   ]
  },
  {
   "cell_type": "code",
   "execution_count": 27,
   "metadata": {
    "ExecuteTime": {
     "end_time": "2023-06-12T19:33:59.223710Z",
     "start_time": "2023-06-12T19:33:52.522113Z"
    }
   },
   "outputs": [
    {
     "name": "stdout",
     "output_type": "stream",
     "text": [
      "Epoch 27: early stopping\n"
     ]
    },
    {
     "data": {
      "image/png": "[encoded data removed]",
      "text/plain": [
       "<Figure size 720x360 with 2 Axes>"
      ]
     },
     "metadata": {
      "needs_background": "light"
     },
     "output_type": "display_data"
    }
   ],
   "source": [
    "model = Sequential()\n",
    "model.add(Dense(30, activation='relu', input_dim=64))\n",
    "model.add(Dense(20, activation='relu'))\n",
    "model.add(Dropout(0.5))\n",
    "model.add(Dense(12, activation='relu'))\n",
    "model.add(Dense(12, activation='relu'))\n",
    "model.add(Dense(12, activation='relu'))\n",
    "model.add(Dense(8, activation='relu'))\n",
    "model.add(Dense(4, activation='relu'))\n",
    "model.add(Dense(1, activation ='sigmoid'))\n",
    "\n",
    "model.compile(optimizer='adam',\n",
    "              loss='binary_crossentropy',\n",
    "              metrics=['accuracy'])\n",
    "\n",
    "# Define the EarlyStopping object\n",
    "early_stop = EarlyStopping(monitor='val_loss', min_delta=1e-8,\n",
    "                           verbose=1, patience=5,\n",
    "                           mode='min')\n",
    "\n",
    "# Place this in a list as the value of the `callbacks` parameter\n",
    "# in the `.fit()` method.\n",
    "results = model.fit(X_pure_train, y_pure_train,\n",
    "                    epochs=50, batch_size= 32,\n",
    "                    verbose=0, validation_data=(X_val, y_val),\n",
    "                    callbacks=[early_stop])\n",
    "\n",
    "train_loss = results.history['loss']\n",
    "train_acc = results.history['accuracy']\n",
    "val_loss = results.history['val_loss']\n",
    "val_acc = results.history['val_accuracy']\n",
    "\n",
    "\n",
    "fig, (ax1, ax2) = plt.subplots(1, 2, figsize=(10, 5))\n",
    "sns.lineplot(x=results.epoch, y=train_loss, ax=ax1, label='train_loss')\n",
    "sns.lineplot(x=results.epoch, y=train_acc, ax=ax2, label='train_accuracy')\n",
    "\n",
    "sns.lineplot(x=results.epoch, y=val_loss, ax=ax1, label='val_loss')\n",
    "sns.lineplot(x=results.epoch, y=val_acc, ax=ax2, label='val_accuracy');"
   ]
  },
  {
   "cell_type": "markdown",
   "metadata": {},
   "source": [
    "<details>\n",
    "    <summary>One answer here</summary>\n",
    "<code>model = Sequential()\n",
    "model.add(Dense(30, activation='relu', input_dim=64))\n",
    "model.add(Dense(20, activation='relu'))\n",
    "model.add(Dropout(0.5))\n",
    "model.add(Dense(12, activation='relu'))\n",
    "model.add(Dense(12, activation='relu'))\n",
    "model.add(Dense(12, activation='relu'))\n",
    "model.add(Dense(8, activation='relu'))\n",
    "model.add(Dense(4, activation='relu'))\n",
    "model.add(Dense(1, activation ='sigmoid'))\n",
    "\n",
    "model.compile(optimizer='adam',\n",
    "              loss='binary_crossentropy',\n",
    "              metrics=['accuracy'])\n",
    "\n",
    "# Define the EarlyStopping object\n",
    "\n",
    "\n",
    "\n",
    "# Place this in a list as the value of the `callbacks` parameter\n",
    "# in the `.fit()` method.\n",
    "results = model.fit(X_pure_train, y_pure_train,\n",
    "                    epochs=50, batch_size= 32,\n",
    "                    verbose=0, validation_data=(X_val, y_val),\n",
    "                    callbacks=[early_stop])\n",
    "\n",
    "train_loss = results.history['loss']\n",
    "train_acc = results.history['accuracy']\n",
    "val_loss = results.history['val_loss']\n",
    "val_acc = results.history['val_accuracy']\n",
    "\n",
    "\n",
    "fig, (ax1, ax2) = plt.subplots(1, 2, figsize=(10, 5))\n",
    "sns.lineplot(x=results.epoch, y=train_loss, ax=ax1, label='train_loss')\n",
    "sns.lineplot(x=results.epoch, y=train_acc, ax=ax2, label='train_accuracy')\n",
    "\n",
    "sns.lineplot(x=results.epoch, y=val_loss, ax=ax1, label='val_loss')\n",
    "sns.lineplot(x=results.epoch, y=val_acc, ax=ax2, label='val_accuracy');</code>\n",
    "</details>"
   ]
  },
  {
   "cell_type": "code",
   "execution_count": 28,
   "metadata": {
    "ExecuteTime": {
     "end_time": "2023-06-12T19:34:00.350679Z",
     "start_time": "2023-06-12T19:34:00.242679Z"
    }
   },
   "outputs": [
    {
     "data": {
      "text/plain": [
       "0.9618055820465088"
      ]
     },
     "execution_count": 28,
     "metadata": {},
     "output_type": "execute_result"
    }
   ],
   "source": [
    "results.history['val_accuracy'][-1]"
   ]
  },
  {
   "cell_type": "markdown",
   "metadata": {},
   "source": [
    "## Multiclass Classification and Softmax"
   ]
  },
  {
   "cell_type": "markdown",
   "metadata": {},
   "source": [
    "Now let's return to the problem of predicting digits 0 through 9."
   ]
  },
  {
   "cell_type": "code",
   "execution_count": 29,
   "metadata": {
    "ExecuteTime": {
     "end_time": "2023-06-12T19:34:01.480390Z",
     "start_time": "2023-06-12T19:34:01.340391Z"
    }
   },
   "outputs": [],
   "source": [
    "digits = load_digits()\n",
    "X = digits.data\n",
    "y = digits.target"
   ]
  },
  {
   "cell_type": "code",
   "execution_count": 30,
   "metadata": {
    "ExecuteTime": {
     "end_time": "2023-06-12T19:34:02.617437Z",
     "start_time": "2023-06-12T19:34:02.506438Z"
    }
   },
   "outputs": [],
   "source": [
    "X_train, X_test, y_train, y_test = train_test_split(X, y,\n",
    "                                                    random_state=42,\n",
    "                                                    test_size=0.2)\n",
    "X_pure_train, X_val, y_pure_train, y_val =\\\n",
    "    train_test_split(X_train, y_train,\n",
    "                     random_state=42, test_size=0.2)\n",
    "X_pure_train, X_val, X_test = X_pure_train/16, X_val/16, X_test/16"
   ]
  },
  {
   "cell_type": "markdown",
   "metadata": {},
   "source": [
    "For a multiclass output, our neural net expects our target to be in a certain form."
   ]
  },
  {
   "cell_type": "code",
   "execution_count": 31,
   "metadata": {
    "ExecuteTime": {
     "end_time": "2023-06-12T19:34:03.708089Z",
     "start_time": "2023-06-12T19:34:03.601210Z"
    }
   },
   "outputs": [
    {
     "name": "stderr",
     "output_type": "stream",
     "text": [
      "/Users/echocai/opt/anaconda3/envs/learn-env/lib/python3.8/site-packages/sklearn/preprocessing/_encoders.py:868: FutureWarning: `sparse` was renamed to `sparse_output` in version 1.2 and will be removed in 1.4. `sparse_output` is ignored unless you leave `sparse` to its default value.\n",
      "  warnings.warn(\n"
     ]
    }
   ],
   "source": [
    "ohe = OneHotEncoder(sparse=False)\n",
    "y_pure_train = ohe.fit_transform(y_pure_train.reshape(-1,1))\n",
    "y_val = ohe.transform(y_val.reshape(-1,1))\n",
    "y_test = ohe.transform(y_test.reshape(-1,1))"
   ]
  },
  {
   "cell_type": "code",
   "execution_count": 32,
   "metadata": {
    "ExecuteTime": {
     "end_time": "2023-06-12T19:34:04.815190Z",
     "start_time": "2023-06-12T19:34:04.709090Z"
    }
   },
   "outputs": [
    {
     "data": {
      "text/plain": [
       "array([[0., 0., 0., ..., 0., 0., 0.],\n",
       "       [0., 0., 0., ..., 0., 0., 1.],\n",
       "       [0., 0., 0., ..., 0., 0., 0.],\n",
       "       ...,\n",
       "       [0., 0., 0., ..., 0., 1., 0.],\n",
       "       [0., 0., 0., ..., 0., 0., 0.],\n",
       "       [0., 0., 0., ..., 0., 0., 0.]])"
      ]
     },
     "execution_count": 32,
     "metadata": {},
     "output_type": "execute_result"
    }
   ],
   "source": [
    "y_test"
   ]
  },
  {
   "cell_type": "code",
   "execution_count": 33,
   "metadata": {
    "ExecuteTime": {
     "end_time": "2023-06-12T19:34:23.577089Z",
     "start_time": "2023-06-12T19:34:05.787089Z"
    }
   },
   "outputs": [
    {
     "name": "stdout",
     "output_type": "stream",
     "text": [
      "Epoch 1/50\n",
      "115/115 [==============================] - 1s 6ms/step - loss: 2.2667 - accuracy: 0.1767 - val_loss: 2.1073 - val_accuracy: 0.2292\n",
      "Epoch 2/50\n",
      "115/115 [==============================] - 0s 4ms/step - loss: 1.9892 - accuracy: 0.3072 - val_loss: 1.8574 - val_accuracy: 0.4236\n",
      "Epoch 3/50\n",
      "115/115 [==============================] - 1s 7ms/step - loss: 1.7127 - accuracy: 0.4630 - val_loss: 1.5829 - val_accuracy: 0.5069\n",
      "Epoch 4/50\n",
      "115/115 [==============================] - 1s 7ms/step - loss: 1.3897 - accuracy: 0.5901 - val_loss: 1.2612 - val_accuracy: 0.6701\n",
      "Epoch 5/50\n",
      "115/115 [==============================] - 0s 4ms/step - loss: 1.0902 - accuracy: 0.7145 - val_loss: 1.0157 - val_accuracy: 0.7292\n",
      "Epoch 6/50\n",
      "115/115 [==============================] - 1s 5ms/step - loss: 0.8946 - accuracy: 0.7911 - val_loss: 0.8496 - val_accuracy: 0.7639\n",
      "Epoch 7/50\n",
      "115/115 [==============================] - 1s 4ms/step - loss: 0.7502 - accuracy: 0.8103 - val_loss: 0.7515 - val_accuracy: 0.7847\n",
      "Epoch 8/50\n",
      "115/115 [==============================] - 1s 7ms/step - loss: 0.6607 - accuracy: 0.8285 - val_loss: 0.6684 - val_accuracy: 0.7882\n",
      "Epoch 9/50\n",
      "115/115 [==============================] - 1s 5ms/step - loss: 0.5898 - accuracy: 0.8433 - val_loss: 0.6061 - val_accuracy: 0.8299\n",
      "Epoch 10/50\n",
      "115/115 [==============================] - 0s 4ms/step - loss: 0.5350 - accuracy: 0.8547 - val_loss: 0.5498 - val_accuracy: 0.8403\n",
      "Epoch 11/50\n",
      "115/115 [==============================] - 0s 4ms/step - loss: 0.4870 - accuracy: 0.8668 - val_loss: 0.5030 - val_accuracy: 0.8507\n",
      "Epoch 12/50\n",
      "115/115 [==============================] - 0s 4ms/step - loss: 0.4476 - accuracy: 0.8834 - val_loss: 0.4632 - val_accuracy: 0.8611\n",
      "Epoch 13/50\n",
      "115/115 [==============================] - 0s 4ms/step - loss: 0.4133 - accuracy: 0.8799 - val_loss: 0.4418 - val_accuracy: 0.8785\n",
      "Epoch 14/50\n",
      "115/115 [==============================] - 1s 6ms/step - loss: 0.3868 - accuracy: 0.8938 - val_loss: 0.4138 - val_accuracy: 0.8681\n",
      "Epoch 15/50\n",
      "115/115 [==============================] - 0s 4ms/step - loss: 0.3645 - accuracy: 0.9051 - val_loss: 0.3968 - val_accuracy: 0.8819\n",
      "Epoch 16/50\n",
      "115/115 [==============================] - 0s 4ms/step - loss: 0.3433 - accuracy: 0.9043 - val_loss: 0.3711 - val_accuracy: 0.8958\n",
      "Epoch 17/50\n",
      "115/115 [==============================] - 1s 5ms/step - loss: 0.3264 - accuracy: 0.9104 - val_loss: 0.3537 - val_accuracy: 0.8993\n",
      "Epoch 18/50\n",
      "115/115 [==============================] - 1s 6ms/step - loss: 0.3074 - accuracy: 0.9164 - val_loss: 0.3408 - val_accuracy: 0.9132\n",
      "Epoch 19/50\n",
      "115/115 [==============================] - 0s 4ms/step - loss: 0.2920 - accuracy: 0.9182 - val_loss: 0.3372 - val_accuracy: 0.9097\n",
      "Epoch 20/50\n",
      "115/115 [==============================] - 0s 3ms/step - loss: 0.2770 - accuracy: 0.9191 - val_loss: 0.3211 - val_accuracy: 0.9097\n",
      "Epoch 21/50\n",
      "115/115 [==============================] - 0s 4ms/step - loss: 0.2645 - accuracy: 0.9252 - val_loss: 0.2965 - val_accuracy: 0.9132\n",
      "Epoch 22/50\n",
      "115/115 [==============================] - 0s 4ms/step - loss: 0.2527 - accuracy: 0.9260 - val_loss: 0.2963 - val_accuracy: 0.9062\n",
      "Epoch 23/50\n",
      "115/115 [==============================] - 0s 4ms/step - loss: 0.2399 - accuracy: 0.9330 - val_loss: 0.2827 - val_accuracy: 0.9236\n",
      "Epoch 24/50\n",
      "115/115 [==============================] - 0s 4ms/step - loss: 0.2315 - accuracy: 0.9347 - val_loss: 0.2882 - val_accuracy: 0.9132\n",
      "Epoch 25/50\n",
      "115/115 [==============================] - 0s 4ms/step - loss: 0.2276 - accuracy: 0.9321 - val_loss: 0.2654 - val_accuracy: 0.9236\n",
      "Epoch 26/50\n",
      "115/115 [==============================] - 0s 3ms/step - loss: 0.2131 - accuracy: 0.9469 - val_loss: 0.2502 - val_accuracy: 0.9236\n",
      "Epoch 27/50\n",
      "115/115 [==============================] - 1s 5ms/step - loss: 0.2060 - accuracy: 0.9452 - val_loss: 0.2464 - val_accuracy: 0.9340\n",
      "Epoch 28/50\n",
      "115/115 [==============================] - 1s 5ms/step - loss: 0.1980 - accuracy: 0.9426 - val_loss: 0.2352 - val_accuracy: 0.9444\n",
      "Epoch 29/50\n",
      "115/115 [==============================] - 0s 4ms/step - loss: 0.1885 - accuracy: 0.9513 - val_loss: 0.2328 - val_accuracy: 0.9340\n",
      "Epoch 30/50\n",
      "115/115 [==============================] - 0s 4ms/step - loss: 0.1818 - accuracy: 0.9521 - val_loss: 0.2341 - val_accuracy: 0.9271\n",
      "Epoch 31/50\n",
      "115/115 [==============================] - 1s 7ms/step - loss: 0.1765 - accuracy: 0.9539 - val_loss: 0.2335 - val_accuracy: 0.9236\n",
      "Epoch 32/50\n",
      "115/115 [==============================] - 0s 4ms/step - loss: 0.1705 - accuracy: 0.9565 - val_loss: 0.2190 - val_accuracy: 0.9340\n",
      "Epoch 33/50\n",
      "115/115 [==============================] - 1s 4ms/step - loss: 0.1641 - accuracy: 0.9626 - val_loss: 0.2181 - val_accuracy: 0.9271\n",
      "Epoch 34/50\n",
      "115/115 [==============================] - 1s 5ms/step - loss: 0.1609 - accuracy: 0.9556 - val_loss: 0.2150 - val_accuracy: 0.9271\n",
      "Epoch 35/50\n",
      "115/115 [==============================] - 1s 4ms/step - loss: 0.1549 - accuracy: 0.9643 - val_loss: 0.2195 - val_accuracy: 0.9410\n",
      "Epoch 36/50\n",
      "115/115 [==============================] - 1s 5ms/step - loss: 0.1501 - accuracy: 0.9600 - val_loss: 0.2043 - val_accuracy: 0.9410\n",
      "Epoch 37/50\n",
      "115/115 [==============================] - 1s 5ms/step - loss: 0.1458 - accuracy: 0.9661 - val_loss: 0.2137 - val_accuracy: 0.9271\n",
      "Epoch 38/50\n",
      "115/115 [==============================] - 1s 9ms/step - loss: 0.1407 - accuracy: 0.9652 - val_loss: 0.1959 - val_accuracy: 0.9375\n",
      "Epoch 39/50\n",
      "115/115 [==============================] - 1s 8ms/step - loss: 0.1383 - accuracy: 0.9669 - val_loss: 0.1962 - val_accuracy: 0.9340\n",
      "Epoch 40/50\n",
      "115/115 [==============================] - 1s 5ms/step - loss: 0.1349 - accuracy: 0.9652 - val_loss: 0.1850 - val_accuracy: 0.9479\n",
      "Epoch 41/50\n",
      "115/115 [==============================] - 1s 6ms/step - loss: 0.1293 - accuracy: 0.9652 - val_loss: 0.1921 - val_accuracy: 0.9375\n",
      "Epoch 42/50\n",
      "115/115 [==============================] - 1s 6ms/step - loss: 0.1270 - accuracy: 0.9687 - val_loss: 0.1866 - val_accuracy: 0.9375\n",
      "Epoch 43/50\n",
      "115/115 [==============================] - 1s 5ms/step - loss: 0.1219 - accuracy: 0.9704 - val_loss: 0.1847 - val_accuracy: 0.9375\n",
      "Epoch 44/50\n",
      "115/115 [==============================] - 1s 5ms/step - loss: 0.1207 - accuracy: 0.9695 - val_loss: 0.2150 - val_accuracy: 0.9306\n",
      "Epoch 45/50\n",
      "115/115 [==============================] - 1s 5ms/step - loss: 0.1202 - accuracy: 0.9634 - val_loss: 0.1833 - val_accuracy: 0.9375\n",
      "Epoch 46/50\n",
      "115/115 [==============================] - 0s 4ms/step - loss: 0.1166 - accuracy: 0.9713 - val_loss: 0.1797 - val_accuracy: 0.9306\n",
      "Epoch 47/50\n",
      "115/115 [==============================] - 0s 4ms/step - loss: 0.1117 - accuracy: 0.9713 - val_loss: 0.1936 - val_accuracy: 0.9375\n",
      "Epoch 48/50\n",
      "115/115 [==============================] - 1s 5ms/step - loss: 0.1077 - accuracy: 0.9687 - val_loss: 0.1736 - val_accuracy: 0.9410\n",
      "Epoch 49/50\n",
      "115/115 [==============================] - 0s 4ms/step - loss: 0.1077 - accuracy: 0.9713 - val_loss: 0.1791 - val_accuracy: 0.9340\n",
      "Epoch 50/50\n",
      "115/115 [==============================] - 1s 5ms/step - loss: 0.1030 - accuracy: 0.9730 - val_loss: 0.1870 - val_accuracy: 0.9375\n"
     ]
    }
   ],
   "source": [
    "# Model from above, but now with ten output neurons:\n",
    "\n",
    "model = Sequential()\n",
    "model.add(Dense(12, activation='relu', input_dim=64))\n",
    "model.add(Dense(8, activation='relu'))\n",
    "model.add(Dense(10, activation='softmax'))\n",
    "\n",
    "model.compile(optimizer='adam',\n",
    "              loss='categorical_crossentropy',\n",
    "              metrics=['accuracy'])\n",
    "\n",
    "results = model.fit(X_pure_train, y_pure_train,\n",
    "                   epochs=50, batch_size=10,\n",
    "                   validation_data=(X_val, y_val))"
   ]
  },
  {
   "cell_type": "markdown",
   "metadata": {},
   "source": [
    "$$\\large \\text{Softmax}(x_{i}) = \\frac{\\exp(x_i)}{\\sum_j \\exp(x_j)}$$\n",
    "\n",
    "The sofmax function outputs a number between 0 and 1 for each of our classes.  All of the probabilities of the classes sum up to 1.\n",
    "\n",
    "The number of nodes in our output layer equals the number of categories in our dataset.\n",
    "\n",
    "We also need a new loss function: **categorical crossentropy**, which calculates a separate loss for each label and then sums the results."
   ]
  },
  {
   "cell_type": "code",
   "execution_count": 34,
   "metadata": {
    "ExecuteTime": {
     "end_time": "2023-06-12T19:34:24.738119Z",
     "start_time": "2023-06-12T19:34:24.630115Z"
    }
   },
   "outputs": [],
   "source": [
    "history = results.history\n",
    "training_loss = history['loss']\n",
    "val_loss = history['val_loss']\n",
    "training_accuracy = history['accuracy']\n",
    "val_accuracy = history['val_accuracy']"
   ]
  },
  {
   "cell_type": "code",
   "execution_count": 35,
   "metadata": {
    "ExecuteTime": {
     "end_time": "2023-06-12T19:34:26.215090Z",
     "start_time": "2023-06-12T19:34:25.828091Z"
    }
   },
   "outputs": [
    {
     "data": {
      "image/png": "[encoded data removed]",
      "text/plain": [
       "<Figure size 1080x360 with 2 Axes>"
      ]
     },
     "metadata": {
      "needs_background": "light"
     },
     "output_type": "display_data"
    }
   ],
   "source": [
    "fig, (ax1,ax2) = plt.subplots(1,2,figsize=(15,5))\n",
    "\n",
    "\n",
    "sns.lineplot(x=list(range(len(training_loss))),\n",
    "             y=training_loss, color='r', label='training', ax=ax1)\n",
    "sns.lineplot(x=list(range(len(val_loss))),\n",
    "             y=val_loss, color='b', label='validation', ax=ax1)\n",
    "sns.lineplot(x=list(range(len(training_loss))),\n",
    "             y=training_accuracy, color='r', label='training',ax=ax2)\n",
    "sns.lineplot(x=list(range(len(val_loss))),\n",
    "             y=val_accuracy, color='b', label='validation',ax=ax2)\n",
    "ax1.legend();"
   ]
  },
  {
   "cell_type": "code",
   "execution_count": 36,
   "metadata": {
    "ExecuteTime": {
     "end_time": "2023-06-12T19:34:27.432123Z",
     "start_time": "2023-06-12T19:34:27.261089Z"
    }
   },
   "outputs": [
    {
     "name": "stdout",
     "output_type": "stream",
     "text": [
      "12/12 [==============================] - 0s 5ms/step\n"
     ]
    }
   ],
   "source": [
    "y_hat_test = np.argmax(model.predict(X_test), axis=-1)"
   ]
  },
  {
   "cell_type": "code",
   "execution_count": 37,
   "metadata": {
    "ExecuteTime": {
     "end_time": "2023-06-12T19:34:28.527564Z",
     "start_time": "2023-06-12T19:34:28.434593Z"
    }
   },
   "outputs": [
    {
     "data": {
      "text/plain": [
       "array([[29,  0,  0,  0,  3,  0,  1,  0,  0,  0],\n",
       "       [ 0, 27,  1,  0,  0,  0,  0,  0,  0,  0],\n",
       "       [ 0,  1, 31,  1,  0,  0,  0,  0,  0,  0],\n",
       "       [ 0,  0,  1, 32,  0,  1,  0,  0,  0,  0],\n",
       "       [ 0,  1,  0,  0, 45,  0,  0,  0,  0,  0],\n",
       "       [ 0,  1,  0,  0,  0, 45,  0,  0,  1,  0],\n",
       "       [ 1,  0,  0,  0,  0,  0, 34,  0,  0,  0],\n",
       "       [ 0,  0,  0,  0,  0,  0,  0, 33,  0,  1],\n",
       "       [ 0,  2,  1,  0,  0,  1,  0,  1, 24,  1],\n",
       "       [ 0,  0,  0,  4,  0,  0,  0,  2,  1, 33]])"
      ]
     },
     "execution_count": 37,
     "metadata": {},
     "output_type": "execute_result"
    }
   ],
   "source": [
    "y_test_restore = ohe.inverse_transform(y_test)\n",
    "confusion_matrix(y_test_restore, y_hat_test)"
   ]
  },
  {
   "cell_type": "markdown",
   "metadata": {},
   "source": [
    "Wow, look at that performance!  \n",
    "\n",
    "That is great, but remember, we were dealing with simple black and white images.  With color, our basic neural net will have less success.\n",
    "\n",
    "We will explore more advanced tools in the coming days.\n"
   ]
  }
 ],
 "metadata": {
  "celltoolbar": "Raw Cell Format",
  "colab": {
   "collapsed_sections": [],
   "name": "intro-to-keras.ipynb",
   "provenance": []
  },
  "kernelspec": {
   "display_name": "Python (learn-env)",
   "language": "python",
   "name": "learn-env"
  },
  "language_info": {
   "codemirror_mode": {
    "name": "ipython",
    "version": 3
   },
   "file_extension": ".py",
   "mimetype": "text/x-python",
   "name": "python",
   "nbconvert_exporter": "python",
   "pygments_lexer": "ipython3",
   "version": "3.8.5"
  },
  "toc": {
   "base_numbering": 1,
   "nav_menu": {},
   "number_sections": true,
   "sideBar": true,
   "skip_h1_title": false,
   "title_cell": "Table of Contents",
   "title_sidebar": "Contents",
   "toc_cell": false,
   "toc_position": {},
   "toc_section_display": true,
   "toc_window_display": false
  },
  "varInspector": {
   "cols": {
    "lenName": 16,
    "lenType": 16,
    "lenVar": 40
   },
   "kernels_config": {
    "python": {
     "delete_cmd_postfix": "",
     "delete_cmd_prefix": "del ",
     "library": "var_list.py",
     "varRefreshCmd": "print(var_dic_list())"
    },
    "r": {
     "delete_cmd_postfix": ") ",
     "delete_cmd_prefix": "rm(",
     "library": "var_list.r",
     "varRefreshCmd": "cat(var_dic_list()) "
    }
   },
   "types_to_exclude": [
    "module",
    "function",
    "builtin_function_or_method",
    "instance",
    "_Feature"
   ],
   "window_display": false
  }
 },
 "nbformat": 4,
 "nbformat_minor": 4
}
